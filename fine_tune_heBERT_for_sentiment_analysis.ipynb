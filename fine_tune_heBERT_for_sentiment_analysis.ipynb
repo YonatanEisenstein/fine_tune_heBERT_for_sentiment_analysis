{
  "cells": [
    {
      "cell_type": "markdown",
      "metadata": {
        "id": "view-in-github",
        "colab_type": "text"
      },
      "source": [
        "<a href=\"https://colab.research.google.com/github/YonatanEisenstein/fine_tune_heBERT_for_sentiment_analysis/blob/main/fine_tune_heBERT_for_sentiment_analysis.ipynb\" target=\"_parent\"><img src=\"https://colab.research.google.com/assets/colab-badge.svg\" alt=\"Open In Colab\"/></a>"
      ]
    },
    {
      "cell_type": "code",
      "execution_count": null,
      "metadata": {
        "colab": {
          "base_uri": "https://localhost:8080/"
        },
        "id": "6HFGy8F0_tPv",
        "outputId": "b2c5ed53-3656-412c-841c-4c38269c250a"
      },
      "outputs": [
        {
          "output_type": "stream",
          "name": "stdout",
          "text": [
            "Requirement already satisfied: transformers in /usr/local/lib/python3.10/dist-packages (4.31.0)\n",
            "Requirement already satisfied: datasets in /usr/local/lib/python3.10/dist-packages (2.13.1)\n",
            "Requirement already satisfied: filelock in /usr/local/lib/python3.10/dist-packages (from transformers) (3.12.2)\n",
            "Requirement already satisfied: huggingface-hub<1.0,>=0.14.1 in /usr/local/lib/python3.10/dist-packages (from transformers) (0.16.4)\n",
            "Requirement already satisfied: numpy>=1.17 in /usr/local/lib/python3.10/dist-packages (from transformers) (1.22.4)\n",
            "Requirement already satisfied: packaging>=20.0 in /usr/local/lib/python3.10/dist-packages (from transformers) (23.1)\n",
            "Requirement already satisfied: pyyaml>=5.1 in /usr/local/lib/python3.10/dist-packages (from transformers) (6.0.1)\n",
            "Requirement already satisfied: regex!=2019.12.17 in /usr/local/lib/python3.10/dist-packages (from transformers) (2022.10.31)\n",
            "Requirement already satisfied: requests in /usr/local/lib/python3.10/dist-packages (from transformers) (2.27.1)\n",
            "Requirement already satisfied: tokenizers!=0.11.3,<0.14,>=0.11.1 in /usr/local/lib/python3.10/dist-packages (from transformers) (0.13.3)\n",
            "Requirement already satisfied: safetensors>=0.3.1 in /usr/local/lib/python3.10/dist-packages (from transformers) (0.3.1)\n",
            "Requirement already satisfied: tqdm>=4.27 in /usr/local/lib/python3.10/dist-packages (from transformers) (4.65.0)\n",
            "Requirement already satisfied: pyarrow>=8.0.0 in /usr/local/lib/python3.10/dist-packages (from datasets) (9.0.0)\n",
            "Requirement already satisfied: dill<0.3.7,>=0.3.0 in /usr/local/lib/python3.10/dist-packages (from datasets) (0.3.6)\n",
            "Requirement already satisfied: pandas in /usr/local/lib/python3.10/dist-packages (from datasets) (1.5.3)\n",
            "Requirement already satisfied: xxhash in /usr/local/lib/python3.10/dist-packages (from datasets) (3.2.0)\n",
            "Requirement already satisfied: multiprocess in /usr/local/lib/python3.10/dist-packages (from datasets) (0.70.14)\n",
            "Requirement already satisfied: fsspec[http]>=2021.11.1 in /usr/local/lib/python3.10/dist-packages (from datasets) (2023.6.0)\n",
            "Requirement already satisfied: aiohttp in /usr/local/lib/python3.10/dist-packages (from datasets) (3.8.4)\n",
            "Requirement already satisfied: attrs>=17.3.0 in /usr/local/lib/python3.10/dist-packages (from aiohttp->datasets) (23.1.0)\n",
            "Requirement already satisfied: charset-normalizer<4.0,>=2.0 in /usr/local/lib/python3.10/dist-packages (from aiohttp->datasets) (2.0.12)\n",
            "Requirement already satisfied: multidict<7.0,>=4.5 in /usr/local/lib/python3.10/dist-packages (from aiohttp->datasets) (6.0.4)\n",
            "Requirement already satisfied: async-timeout<5.0,>=4.0.0a3 in /usr/local/lib/python3.10/dist-packages (from aiohttp->datasets) (4.0.2)\n",
            "Requirement already satisfied: yarl<2.0,>=1.0 in /usr/local/lib/python3.10/dist-packages (from aiohttp->datasets) (1.9.2)\n",
            "Requirement already satisfied: frozenlist>=1.1.1 in /usr/local/lib/python3.10/dist-packages (from aiohttp->datasets) (1.4.0)\n",
            "Requirement already satisfied: aiosignal>=1.1.2 in /usr/local/lib/python3.10/dist-packages (from aiohttp->datasets) (1.3.1)\n",
            "Requirement already satisfied: typing-extensions>=3.7.4.3 in /usr/local/lib/python3.10/dist-packages (from huggingface-hub<1.0,>=0.14.1->transformers) (4.7.1)\n",
            "Requirement already satisfied: urllib3<1.27,>=1.21.1 in /usr/local/lib/python3.10/dist-packages (from requests->transformers) (1.26.16)\n",
            "Requirement already satisfied: certifi>=2017.4.17 in /usr/local/lib/python3.10/dist-packages (from requests->transformers) (2023.5.7)\n",
            "Requirement already satisfied: idna<4,>=2.5 in /usr/local/lib/python3.10/dist-packages (from requests->transformers) (3.4)\n",
            "Requirement already satisfied: python-dateutil>=2.8.1 in /usr/local/lib/python3.10/dist-packages (from pandas->datasets) (2.8.2)\n",
            "Requirement already satisfied: pytz>=2020.1 in /usr/local/lib/python3.10/dist-packages (from pandas->datasets) (2022.7.1)\n",
            "Requirement already satisfied: six>=1.5 in /usr/local/lib/python3.10/dist-packages (from python-dateutil>=2.8.1->pandas->datasets) (1.16.0)\n"
          ]
        }
      ],
      "source": [
        "# Transformers installation\n",
        "! pip install transformers datasets\n",
        "# To install from source instead of the last release, comment the command above and uncomment the following one.\n",
        "# ! pip install git+https://github.com/huggingface/transformers.git"
      ]
    },
    {
      "cell_type": "markdown",
      "metadata": {
        "id": "S67R7u-H_tPz"
      },
      "source": [
        "# Fine-tune a pretrained model"
      ]
    },
    {
      "cell_type": "markdown",
      "metadata": {
        "id": "TmGdOqDr_tP1"
      },
      "source": [
        "There are significant benefits to using a pretrained model. It reduces computation costs, your carbon footprint, and allows you to use state-of-the-art models without having to train one from scratch. 🤗 Transformers provides access to thousands of pretrained models for a wide range of tasks. When you use a pretrained model, you train it on a dataset specific to your task. This is known as fine-tuning, an incredibly powerful training technique. In this tutorial, you will fine-tune a pretrained model with a deep learning framework of your choice:\n",
        "\n",
        "* Fine-tune a pretrained model with 🤗 Transformers [Trainer](https://huggingface.co/docs/transformers/main/en/main_classes/trainer#transformers.Trainer).\n",
        "* Fine-tune a pretrained model in TensorFlow with Keras.\n",
        "* Fine-tune a pretrained model in native PyTorch.\n",
        "\n",
        "<a id='data-processing'></a>"
      ]
    },
    {
      "cell_type": "markdown",
      "metadata": {
        "id": "LwmnInXX_tP2"
      },
      "source": [
        "## Prepare a dataset"
      ]
    },
    {
      "cell_type": "code",
      "execution_count": null,
      "metadata": {
        "cellView": "form",
        "hide_input": true,
        "id": "Hwzxx0xD_tP2",
        "outputId": "685c7bc9-a55d-4f60-9a63-c55f992955ee"
      },
      "outputs": [
        {
          "data": {
            "text/html": [
              "<iframe width=\"560\" height=\"315\" src=\"https://www.youtube.com/embed/_BZearw7f0w?rel=0&amp;controls=0&amp;showinfo=0\" frameborder=\"0\" allowfullscreen></iframe>"
            ],
            "text/plain": [
              "<IPython.core.display.HTML object>"
            ]
          },
          "execution_count": null,
          "metadata": {},
          "output_type": "execute_result"
        }
      ],
      "source": [
        "#@title\n",
        "from IPython.display import HTML\n",
        "\n",
        "HTML('<iframe width=\"560\" height=\"315\" src=\"https://www.youtube.com/embed/_BZearw7f0w?rel=0&amp;controls=0&amp;showinfo=0\" frameborder=\"0\" allowfullscreen></iframe>')"
      ]
    },
    {
      "cell_type": "markdown",
      "metadata": {
        "id": "Q2W-0qlj_tP3"
      },
      "source": [
        "Before you can fine-tune a pretrained model, download a dataset and prepare it for training. The previous tutorial showed you how to process data for training, and now you get an opportunity to put those skills to the test!\n",
        "\n",
        "Begin by loading the [Yelp Reviews](https://huggingface.co/datasets/yelp_review_full) dataset:"
      ]
    },
    {
      "cell_type": "code",
      "execution_count": null,
      "metadata": {
        "colab": {
          "base_uri": "https://localhost:8080/",
          "height": 138,
          "referenced_widgets": [
            "e9ed6225dc8546cab2b676183218cd77",
            "3aa882fe6d454b21b98e0ce963945e65",
            "e8f9669a7ca3483cab0120a21df985de",
            "24fd9f1b2b5b4073b3e7df18d556a517",
            "0f099e8b781a4cdeb954eec9eb2b7839",
            "efd7bbb2e8b448e084d12c705e2c6bdc",
            "1ea24119cb844f58a3697f52cf36cb75",
            "73bc263c8da14a98b62857aa00e7aec3",
            "1a015ae6a85a43d9a617f54f5c48cb76",
            "1e6241363173460086b7e2aee06af9e7",
            "2d3ee6cf45854fc989e4f5d0667de835"
          ]
        },
        "id": "aBTvzgsF_tP3",
        "outputId": "fcf7e047-170d-447d-91a2-30a09661a908"
      },
      "outputs": [
        {
          "output_type": "stream",
          "name": "stderr",
          "text": [
            "WARNING:datasets.builder:No config specified, defaulting to: hebrew_sentiment/token\n",
            "WARNING:datasets.builder:Found cached dataset hebrew_sentiment (/root/.cache/huggingface/datasets/hebrew_sentiment/token/1.0.0/2ea2ba30503e863156a06ad2d4011a75b45556d1d557c2247f6194828849f5f9)\n"
          ]
        },
        {
          "output_type": "display_data",
          "data": {
            "text/plain": [
              "  0%|          | 0/2 [00:00<?, ?it/s]"
            ],
            "application/vnd.jupyter.widget-view+json": {
              "version_major": 2,
              "version_minor": 0,
              "model_id": "e9ed6225dc8546cab2b676183218cd77"
            }
          },
          "metadata": {}
        },
        {
          "output_type": "execute_result",
          "data": {
            "text/plain": [
              "{'text': 'רגע .. אם היינו מתבוללים כבר לפני 2000 שנה כשהרומאים הגלו את חלקינו ... זה לא היה מונע את כל הבלאגן הזה ?',\n",
              " 'label': 1}"
            ]
          },
          "metadata": {},
          "execution_count": 2
        }
      ],
      "source": [
        "from datasets import load_dataset\n",
        "\n",
        "dataset = load_dataset(\"hebrew_sentiment\")\n",
        "dataset[\"train\"][100]"
      ]
    },
    {
      "cell_type": "code",
      "source": [
        "from datasets import *\n",
        "dataset = dataset.cast(Features({'label': Value(\"float32\"), 'text': Value(\"string\")}))"
      ],
      "metadata": {
        "colab": {
          "base_uri": "https://localhost:8080/",
          "height": 17,
          "referenced_widgets": [
            "34be70442e2e42f994f33d5d7638f754",
            "1422c473c2ad4135a63e155b5d4e2497",
            "5ae9458b149c4178b6449a6d492977e9",
            "9b5e3de29e794e16bc745cad03055453",
            "3c53a6019d22469d94924a07f632fafa",
            "493745a265424f2d83f8ebc8777c79c5",
            "37c420ded5ca4302a9dcedee00c55de8",
            "9394913df79e4c12bcd13884a238324b",
            "e35a4839877045719d3c8ee06adae1d2",
            "f619a78fc4e44e96a70cad56ae05db37",
            "ac467f8b3e31427daef4a2289298642e",
            "a13ca336fe0747a088f6a3134ca89cc8",
            "71fd3065d2e04e6b8553dfe107f53d57",
            "8a2ef71c1d0d4fe187f381e41a269701",
            "685eed1279e04a59864c81cea82e53ad",
            "63cb0729fd3f476783f458295c59b214",
            "2e2ecf8e3a9e47e6b6f7dd0203be186a",
            "fb737728f56a49908d0cab58dc6f09bd",
            "47ae13faad3e43dbab0e6e30da3d38a4",
            "43b88ec60e5244b4b0c6e1d6ea771c94",
            "5cd1333af8af4df7a567239d71d3c9b3",
            "5627b71ea11943959d2ffd5540fc2b7d"
          ]
        },
        "id": "2wijtRX3B_hG",
        "outputId": "0a114191-e3e1-4abe-febf-562eeca6c05c"
      },
      "execution_count": null,
      "outputs": [
        {
          "output_type": "display_data",
          "data": {
            "text/plain": [
              "Casting the dataset:   0%|          | 0/10244 [00:00<?, ? examples/s]"
            ],
            "application/vnd.jupyter.widget-view+json": {
              "version_major": 2,
              "version_minor": 0,
              "model_id": "34be70442e2e42f994f33d5d7638f754"
            }
          },
          "metadata": {}
        },
        {
          "output_type": "display_data",
          "data": {
            "text/plain": [
              "Casting the dataset:   0%|          | 0/2560 [00:00<?, ? examples/s]"
            ],
            "application/vnd.jupyter.widget-view+json": {
              "version_major": 2,
              "version_minor": 0,
              "model_id": "a13ca336fe0747a088f6a3134ca89cc8"
            }
          },
          "metadata": {}
        }
      ]
    },
    {
      "cell_type": "markdown",
      "metadata": {
        "id": "9b-ZCDBD_tP4"
      },
      "source": [
        "As you now know, you need a tokenizer to process the text and include a padding and truncation strategy to handle any variable sequence lengths. To process your dataset in one step, use 🤗 Datasets [`map`](https://huggingface.co/docs/datasets/process.html#map) method to apply a preprocessing function over the entire dataset:"
      ]
    },
    {
      "cell_type": "code",
      "execution_count": null,
      "metadata": {
        "colab": {
          "base_uri": "https://localhost:8080/",
          "height": 17,
          "referenced_widgets": [
            "b33962ac17cb4ce19eee6934ece70455",
            "90581f31e2a84350878b57f96100977c",
            "36583eb1965c41a29893b37e3044596a",
            "34bb2e9986764ca6b847c9ac35fd2430",
            "0e487a39f5d646f0a1ff878fe56fc49b",
            "e96410524e4a42779d1fd1016d2d3fe6",
            "89c2869a455d4e28bc9d1d6d4f672db6",
            "dfd107c2165d49a0b6f79494a814f90a",
            "190946852be44b11841e807433fbb0a5",
            "35d2b5413d1e46259ab5943c153ca3bc",
            "575ff31c95a842839b8fb83a84edff0b",
            "15f10d8ba8a74ab5a90ec68e02b3c3ac",
            "8c6c7733cdd74a528d99049821084814",
            "acd075277eb9445bb2fe1b2b99ca2308",
            "71a84c308b094628856a183052d40e32",
            "3d04b988bc3b4bf4bf2cce36928ddb6c",
            "1305053a32d84561a9acb66b228b05b1",
            "edbbb15500a845a1bc08165b75a6480c",
            "aace1857b0c4406aaeb11f58f1fcaa60",
            "c59234c29fa7477c94d6ee2b3297dfac",
            "a67bca27a52a407696441537f7a708e3",
            "e840092011924f68a2768149ec963d5f"
          ]
        },
        "id": "Wazn_D0m_tP4",
        "outputId": "79b8c349-cfd0-49cb-97a1-0dd801fac450"
      },
      "outputs": [
        {
          "output_type": "display_data",
          "data": {
            "text/plain": [
              "Map:   0%|          | 0/10244 [00:00<?, ? examples/s]"
            ],
            "application/vnd.jupyter.widget-view+json": {
              "version_major": 2,
              "version_minor": 0,
              "model_id": "b33962ac17cb4ce19eee6934ece70455"
            }
          },
          "metadata": {}
        },
        {
          "output_type": "display_data",
          "data": {
            "text/plain": [
              "Map:   0%|          | 0/2560 [00:00<?, ? examples/s]"
            ],
            "application/vnd.jupyter.widget-view+json": {
              "version_major": 2,
              "version_minor": 0,
              "model_id": "15f10d8ba8a74ab5a90ec68e02b3c3ac"
            }
          },
          "metadata": {}
        }
      ],
      "source": [
        "from transformers import AutoTokenizer\n",
        "\n",
        "tokenizer = AutoTokenizer.from_pretrained(\"avichr/heBERT\")\n",
        "\n",
        "\n",
        "def tokenize_function(examples):\n",
        "    return tokenizer(examples[\"text\"],\n",
        "                     padding=\"max_length\",\n",
        "                     truncation=True,\n",
        "                     max_length=37)\n",
        "\n",
        "\n",
        "tokenized_datasets = dataset.map(tokenize_function, batched=True)"
      ]
    },
    {
      "cell_type": "code",
      "source": [
        "tokenized_datasets"
      ],
      "metadata": {
        "colab": {
          "base_uri": "https://localhost:8080/"
        },
        "id": "hMrmH9jjF0D8",
        "outputId": "1d6ab107-a9c6-4a10-eb0d-b85ecdaadb6d"
      },
      "execution_count": null,
      "outputs": [
        {
          "output_type": "execute_result",
          "data": {
            "text/plain": [
              "DatasetDict({\n",
              "    train: Dataset({\n",
              "        features: ['label', 'text', 'input_ids', 'token_type_ids', 'attention_mask'],\n",
              "        num_rows: 10244\n",
              "    })\n",
              "    test: Dataset({\n",
              "        features: ['label', 'text', 'input_ids', 'token_type_ids', 'attention_mask'],\n",
              "        num_rows: 2560\n",
              "    })\n",
              "})"
            ]
          },
          "metadata": {},
          "execution_count": 39
        }
      ]
    },
    {
      "cell_type": "markdown",
      "metadata": {
        "id": "igpeg5cD_tP4"
      },
      "source": [
        "If you like, you can create a smaller subset of the full dataset to fine-tune on to reduce the time it takes:"
      ]
    },
    {
      "cell_type": "code",
      "execution_count": null,
      "metadata": {
        "id": "Jv97UoVG_tP5"
      },
      "outputs": [],
      "source": [
        "small_train_dataset = tokenized_datasets[\"train\"].shuffle(seed=42).select(range(1000))\n",
        "small_eval_dataset = tokenized_datasets[\"test\"].shuffle(seed=42).select(range(1000))"
      ]
    },
    {
      "cell_type": "markdown",
      "metadata": {
        "id": "fi-Ott5O_tP6"
      },
      "source": [
        "<a id='trainer'></a>"
      ]
    },
    {
      "cell_type": "markdown",
      "metadata": {
        "id": "Ed4UFAyR_tP6"
      },
      "source": [
        "## Train"
      ]
    },
    {
      "cell_type": "markdown",
      "metadata": {
        "id": "3TN6G9DR_tP6"
      },
      "source": [
        "At this point, you should follow the section corresponding to the framework you want to use. You can use the links\n",
        "in the right sidebar to jump to the one you want - and if you want to hide all of the content for a given framework,\n",
        "just use the button at the top-right of that framework's block!"
      ]
    },
    {
      "cell_type": "code",
      "execution_count": null,
      "metadata": {
        "cellView": "form",
        "hide_input": true,
        "id": "EJHj350W_tP6",
        "outputId": "1022160e-e2fa-427d-89cd-e6c6ce6886aa"
      },
      "outputs": [
        {
          "data": {
            "text/html": [
              "<iframe width=\"560\" height=\"315\" src=\"https://www.youtube.com/embed/nvBXf7s7vTI?rel=0&amp;controls=0&amp;showinfo=0\" frameborder=\"0\" allowfullscreen></iframe>"
            ],
            "text/plain": [
              "<IPython.core.display.HTML object>"
            ]
          },
          "execution_count": null,
          "metadata": {},
          "output_type": "execute_result"
        }
      ],
      "source": [
        "#@title\n",
        "from IPython.display import HTML\n",
        "\n",
        "HTML('<iframe width=\"560\" height=\"315\" src=\"https://www.youtube.com/embed/nvBXf7s7vTI?rel=0&amp;controls=0&amp;showinfo=0\" frameborder=\"0\" allowfullscreen></iframe>')"
      ]
    },
    {
      "cell_type": "markdown",
      "metadata": {
        "id": "nWkwOZ-n_tP6"
      },
      "source": [
        "## Train with PyTorch Trainer"
      ]
    },
    {
      "cell_type": "markdown",
      "metadata": {
        "id": "TqGza5Jq_tP6"
      },
      "source": [
        "🤗 Transformers provides a [Trainer](https://huggingface.co/docs/transformers/main/en/main_classes/trainer#transformers.Trainer) class optimized for training 🤗 Transformers models, making it easier to start training without manually writing your own training loop. The [Trainer](https://huggingface.co/docs/transformers/main/en/main_classes/trainer#transformers.Trainer) API supports a wide range of training options and features such as logging, gradient accumulation, and mixed precision.\n",
        "\n",
        "Start by loading your model and specify the number of expected labels. From the Yelp Review [dataset card](https://huggingface.co/datasets/yelp_review_full#data-fields), you know there are five labels:"
      ]
    },
    {
      "cell_type": "code",
      "execution_count": null,
      "metadata": {
        "colab": {
          "base_uri": "https://localhost:8080/"
        },
        "id": "EbLignu2_tP6",
        "outputId": "1efc652f-57b6-44a6-98ca-c5a6b12ec904"
      },
      "outputs": [
        {
          "output_type": "stream",
          "name": "stderr",
          "text": [
            "Some weights of BertForSequenceClassification were not initialized from the model checkpoint at avichr/heBERT and are newly initialized: ['bert.pooler.dense.bias', 'classifier.weight', 'classifier.bias', 'bert.pooler.dense.weight']\n",
            "You should probably TRAIN this model on a down-stream task to be able to use it for predictions and inference.\n"
          ]
        }
      ],
      "source": [
        "from transformers import AutoModelForSequenceClassification\n",
        "\n",
        "model = AutoModelForSequenceClassification.from_pretrained(\"avichr/heBERT\", num_labels=1)"
      ]
    },
    {
      "cell_type": "markdown",
      "metadata": {
        "id": "vjOfX3a5_tP7"
      },
      "source": [
        "<Tip>\n",
        "\n",
        "You will see a warning about some of the pretrained weights not being used and some weights being randomly\n",
        "initialized. Don't worry, this is completely normal! The pretrained head of the BERT model is discarded, and replaced with a randomly initialized classification head. You will fine-tune this new model head on your sequence classification task, transferring the knowledge of the pretrained model to it.\n",
        "\n",
        "</Tip>"
      ]
    },
    {
      "cell_type": "markdown",
      "metadata": {
        "id": "s8zBXd-u_tP7"
      },
      "source": [
        "### Training hyperparameters"
      ]
    },
    {
      "cell_type": "markdown",
      "metadata": {
        "id": "o2JAAKoV_tP7"
      },
      "source": [
        "Next, create a [TrainingArguments](https://huggingface.co/docs/transformers/main/en/main_classes/trainer#transformers.TrainingArguments) class which contains all the hyperparameters you can tune as well as flags for activating different training options. For this tutorial you can start with the default training [hyperparameters](https://huggingface.co/docs/transformers/main_classes/trainer#transformers.TrainingArguments), but feel free to experiment with these to find your optimal settings.\n",
        "\n",
        "Specify where to save the checkpoints from your training:"
      ]
    },
    {
      "cell_type": "markdown",
      "metadata": {
        "id": "UQIxdTr0_tP7"
      },
      "source": [
        "### Evaluate"
      ]
    },
    {
      "cell_type": "markdown",
      "metadata": {
        "id": "y6eq8iGk_tP7"
      },
      "source": [
        "[Trainer](https://huggingface.co/docs/transformers/main/en/main_classes/trainer#transformers.Trainer) does not automatically evaluate model performance during training. You'll need to pass [Trainer](https://huggingface.co/docs/transformers/main/en/main_classes/trainer#transformers.Trainer) a function to compute and report metrics. The [🤗 Evaluate](https://huggingface.co/docs/evaluate/index) library provides a simple [`accuracy`](https://huggingface.co/spaces/evaluate-metric/accuracy) function you can load with the [evaluate.load](https://huggingface.co/docs/evaluate/main/en/package_reference/loading_methods#evaluate.load) (see this [quicktour](https://huggingface.co/docs/evaluate/a_quick_tour) for more information) function:"
      ]
    },
    {
      "cell_type": "code",
      "execution_count": null,
      "metadata": {
        "colab": {
          "base_uri": "https://localhost:8080/"
        },
        "id": "KAm4q31a_tP7",
        "outputId": "b276952b-eb74-4e99-f405-ebb171e9a87e"
      },
      "outputs": [
        {
          "output_type": "stream",
          "name": "stdout",
          "text": [
            "Requirement already satisfied: evaluate in /usr/local/lib/python3.10/dist-packages (0.4.0)\n",
            "Requirement already satisfied: datasets>=2.0.0 in /usr/local/lib/python3.10/dist-packages (from evaluate) (2.13.1)\n",
            "Requirement already satisfied: numpy>=1.17 in /usr/local/lib/python3.10/dist-packages (from evaluate) (1.22.4)\n",
            "Requirement already satisfied: dill in /usr/local/lib/python3.10/dist-packages (from evaluate) (0.3.6)\n",
            "Requirement already satisfied: pandas in /usr/local/lib/python3.10/dist-packages (from evaluate) (1.5.3)\n",
            "Requirement already satisfied: requests>=2.19.0 in /usr/local/lib/python3.10/dist-packages (from evaluate) (2.27.1)\n",
            "Requirement already satisfied: tqdm>=4.62.1 in /usr/local/lib/python3.10/dist-packages (from evaluate) (4.65.0)\n",
            "Requirement already satisfied: xxhash in /usr/local/lib/python3.10/dist-packages (from evaluate) (3.2.0)\n",
            "Requirement already satisfied: multiprocess in /usr/local/lib/python3.10/dist-packages (from evaluate) (0.70.14)\n",
            "Requirement already satisfied: fsspec[http]>=2021.05.0 in /usr/local/lib/python3.10/dist-packages (from evaluate) (2023.6.0)\n",
            "Requirement already satisfied: huggingface-hub>=0.7.0 in /usr/local/lib/python3.10/dist-packages (from evaluate) (0.16.4)\n",
            "Requirement already satisfied: packaging in /usr/local/lib/python3.10/dist-packages (from evaluate) (23.1)\n",
            "Requirement already satisfied: responses<0.19 in /usr/local/lib/python3.10/dist-packages (from evaluate) (0.18.0)\n",
            "Requirement already satisfied: pyarrow>=8.0.0 in /usr/local/lib/python3.10/dist-packages (from datasets>=2.0.0->evaluate) (9.0.0)\n",
            "Requirement already satisfied: aiohttp in /usr/local/lib/python3.10/dist-packages (from datasets>=2.0.0->evaluate) (3.8.4)\n",
            "Requirement already satisfied: pyyaml>=5.1 in /usr/local/lib/python3.10/dist-packages (from datasets>=2.0.0->evaluate) (6.0.1)\n",
            "Requirement already satisfied: filelock in /usr/local/lib/python3.10/dist-packages (from huggingface-hub>=0.7.0->evaluate) (3.12.2)\n",
            "Requirement already satisfied: typing-extensions>=3.7.4.3 in /usr/local/lib/python3.10/dist-packages (from huggingface-hub>=0.7.0->evaluate) (4.7.1)\n",
            "Requirement already satisfied: urllib3<1.27,>=1.21.1 in /usr/local/lib/python3.10/dist-packages (from requests>=2.19.0->evaluate) (1.26.16)\n",
            "Requirement already satisfied: certifi>=2017.4.17 in /usr/local/lib/python3.10/dist-packages (from requests>=2.19.0->evaluate) (2023.5.7)\n",
            "Requirement already satisfied: charset-normalizer~=2.0.0 in /usr/local/lib/python3.10/dist-packages (from requests>=2.19.0->evaluate) (2.0.12)\n",
            "Requirement already satisfied: idna<4,>=2.5 in /usr/local/lib/python3.10/dist-packages (from requests>=2.19.0->evaluate) (3.4)\n",
            "Requirement already satisfied: python-dateutil>=2.8.1 in /usr/local/lib/python3.10/dist-packages (from pandas->evaluate) (2.8.2)\n",
            "Requirement already satisfied: pytz>=2020.1 in /usr/local/lib/python3.10/dist-packages (from pandas->evaluate) (2022.7.1)\n",
            "Requirement already satisfied: attrs>=17.3.0 in /usr/local/lib/python3.10/dist-packages (from aiohttp->datasets>=2.0.0->evaluate) (23.1.0)\n",
            "Requirement already satisfied: multidict<7.0,>=4.5 in /usr/local/lib/python3.10/dist-packages (from aiohttp->datasets>=2.0.0->evaluate) (6.0.4)\n",
            "Requirement already satisfied: async-timeout<5.0,>=4.0.0a3 in /usr/local/lib/python3.10/dist-packages (from aiohttp->datasets>=2.0.0->evaluate) (4.0.2)\n",
            "Requirement already satisfied: yarl<2.0,>=1.0 in /usr/local/lib/python3.10/dist-packages (from aiohttp->datasets>=2.0.0->evaluate) (1.9.2)\n",
            "Requirement already satisfied: frozenlist>=1.1.1 in /usr/local/lib/python3.10/dist-packages (from aiohttp->datasets>=2.0.0->evaluate) (1.4.0)\n",
            "Requirement already satisfied: aiosignal>=1.1.2 in /usr/local/lib/python3.10/dist-packages (from aiohttp->datasets>=2.0.0->evaluate) (1.3.1)\n",
            "Requirement already satisfied: six>=1.5 in /usr/local/lib/python3.10/dist-packages (from python-dateutil>=2.8.1->pandas->evaluate) (1.16.0)\n"
          ]
        }
      ],
      "source": [
        "!pip install evaluate\n",
        "import numpy as np\n",
        "import evaluate\n",
        "\n",
        "metric = evaluate.load(\"accuracy\")"
      ]
    },
    {
      "cell_type": "markdown",
      "metadata": {
        "id": "pX6vRXKv_tP7"
      },
      "source": [
        "Call `compute` on `metric` to calculate the accuracy of your predictions. Before passing your predictions to `compute`, you need to convert the predictions to logits (remember all 🤗 Transformers models return logits):"
      ]
    },
    {
      "cell_type": "code",
      "execution_count": null,
      "metadata": {
        "id": "3bun9CQs_tP8"
      },
      "outputs": [],
      "source": [
        "def compute_metrics(eval_pred):\n",
        "    logits, labels = eval_pred\n",
        "    predictions = np.argmax(logits, axis=-1)\n",
        "    return metric.compute(predictions=predictions, references=labels)"
      ]
    },
    {
      "cell_type": "markdown",
      "metadata": {
        "id": "fB5WK4KF_tP8"
      },
      "source": [
        "If you'd like to monitor your evaluation metrics during fine-tuning, specify the `evaluation_strategy` parameter in your training arguments to report the evaluation metric at the end of each epoch:"
      ]
    },
    {
      "cell_type": "code",
      "execution_count": null,
      "metadata": {
        "colab": {
          "base_uri": "https://localhost:8080/"
        },
        "id": "lWWV68gV_tP8",
        "outputId": "d611588b-9294-4135-ca91-965ba42c0b16"
      },
      "outputs": [
        {
          "output_type": "stream",
          "name": "stdout",
          "text": [
            "Requirement already satisfied: accelerate in /usr/local/lib/python3.10/dist-packages (0.21.0)\n",
            "Requirement already satisfied: numpy>=1.17 in /usr/local/lib/python3.10/dist-packages (from accelerate) (1.22.4)\n",
            "Requirement already satisfied: packaging>=20.0 in /usr/local/lib/python3.10/dist-packages (from accelerate) (23.1)\n",
            "Requirement already satisfied: psutil in /usr/local/lib/python3.10/dist-packages (from accelerate) (5.9.5)\n",
            "Requirement already satisfied: pyyaml in /usr/local/lib/python3.10/dist-packages (from accelerate) (6.0.1)\n",
            "Requirement already satisfied: torch>=1.10.0 in /usr/local/lib/python3.10/dist-packages (from accelerate) (2.0.1+cu118)\n",
            "Requirement already satisfied: filelock in /usr/local/lib/python3.10/dist-packages (from torch>=1.10.0->accelerate) (3.12.2)\n",
            "Requirement already satisfied: typing-extensions in /usr/local/lib/python3.10/dist-packages (from torch>=1.10.0->accelerate) (4.7.1)\n",
            "Requirement already satisfied: sympy in /usr/local/lib/python3.10/dist-packages (from torch>=1.10.0->accelerate) (1.11.1)\n",
            "Requirement already satisfied: networkx in /usr/local/lib/python3.10/dist-packages (from torch>=1.10.0->accelerate) (3.1)\n",
            "Requirement already satisfied: jinja2 in /usr/local/lib/python3.10/dist-packages (from torch>=1.10.0->accelerate) (3.1.2)\n",
            "Requirement already satisfied: triton==2.0.0 in /usr/local/lib/python3.10/dist-packages (from torch>=1.10.0->accelerate) (2.0.0)\n",
            "Requirement already satisfied: cmake in /usr/local/lib/python3.10/dist-packages (from triton==2.0.0->torch>=1.10.0->accelerate) (3.25.2)\n",
            "Requirement already satisfied: lit in /usr/local/lib/python3.10/dist-packages (from triton==2.0.0->torch>=1.10.0->accelerate) (16.0.6)\n",
            "Requirement already satisfied: MarkupSafe>=2.0 in /usr/local/lib/python3.10/dist-packages (from jinja2->torch>=1.10.0->accelerate) (2.1.3)\n",
            "Requirement already satisfied: mpmath>=0.19 in /usr/local/lib/python3.10/dist-packages (from sympy->torch>=1.10.0->accelerate) (1.3.0)\n",
            "Requirement already satisfied: transformers in /usr/local/lib/python3.10/dist-packages (4.31.0)\n",
            "Requirement already satisfied: filelock in /usr/local/lib/python3.10/dist-packages (from transformers) (3.12.2)\n",
            "Requirement already satisfied: huggingface-hub<1.0,>=0.14.1 in /usr/local/lib/python3.10/dist-packages (from transformers) (0.16.4)\n",
            "Requirement already satisfied: numpy>=1.17 in /usr/local/lib/python3.10/dist-packages (from transformers) (1.22.4)\n",
            "Requirement already satisfied: packaging>=20.0 in /usr/local/lib/python3.10/dist-packages (from transformers) (23.1)\n",
            "Requirement already satisfied: pyyaml>=5.1 in /usr/local/lib/python3.10/dist-packages (from transformers) (6.0.1)\n",
            "Requirement already satisfied: regex!=2019.12.17 in /usr/local/lib/python3.10/dist-packages (from transformers) (2022.10.31)\n",
            "Requirement already satisfied: requests in /usr/local/lib/python3.10/dist-packages (from transformers) (2.27.1)\n",
            "Requirement already satisfied: tokenizers!=0.11.3,<0.14,>=0.11.1 in /usr/local/lib/python3.10/dist-packages (from transformers) (0.13.3)\n",
            "Requirement already satisfied: safetensors>=0.3.1 in /usr/local/lib/python3.10/dist-packages (from transformers) (0.3.1)\n",
            "Requirement already satisfied: tqdm>=4.27 in /usr/local/lib/python3.10/dist-packages (from transformers) (4.65.0)\n",
            "Requirement already satisfied: fsspec in /usr/local/lib/python3.10/dist-packages (from huggingface-hub<1.0,>=0.14.1->transformers) (2023.6.0)\n",
            "Requirement already satisfied: typing-extensions>=3.7.4.3 in /usr/local/lib/python3.10/dist-packages (from huggingface-hub<1.0,>=0.14.1->transformers) (4.7.1)\n",
            "Requirement already satisfied: urllib3<1.27,>=1.21.1 in /usr/local/lib/python3.10/dist-packages (from requests->transformers) (1.26.16)\n",
            "Requirement already satisfied: certifi>=2017.4.17 in /usr/local/lib/python3.10/dist-packages (from requests->transformers) (2023.5.7)\n",
            "Requirement already satisfied: charset-normalizer~=2.0.0 in /usr/local/lib/python3.10/dist-packages (from requests->transformers) (2.0.12)\n",
            "Requirement already satisfied: idna<4,>=2.5 in /usr/local/lib/python3.10/dist-packages (from requests->transformers) (3.4)\n"
          ]
        }
      ],
      "source": [
        "! pip install -U accelerate\n",
        "! pip install -U transformers\n",
        "from transformers import TrainingArguments, Trainer\n",
        "\n",
        "training_args = TrainingArguments(output_dir=\"test_trainer\", evaluation_strategy=\"epoch\")"
      ]
    },
    {
      "cell_type": "markdown",
      "metadata": {
        "id": "tkN0SER4_tP8"
      },
      "source": [
        "### Trainer"
      ]
    },
    {
      "cell_type": "markdown",
      "metadata": {
        "id": "vVVY7oL9_tP8"
      },
      "source": [
        "Create a [Trainer](https://huggingface.co/docs/transformers/main/en/main_classes/trainer#transformers.Trainer) object with your model, training arguments, training and test datasets, and evaluation function:"
      ]
    },
    {
      "cell_type": "code",
      "execution_count": null,
      "metadata": {
        "id": "-PMO2Wd9_tP8"
      },
      "outputs": [],
      "source": [
        "trainer = Trainer(\n",
        "    model=model,\n",
        "    args=training_args,\n",
        "    train_dataset=small_train_dataset,\n",
        "    eval_dataset=small_eval_dataset,\n",
        "    compute_metrics=compute_metrics,\n",
        ")"
      ]
    },
    {
      "cell_type": "markdown",
      "metadata": {
        "id": "fLJHQymE_tP8"
      },
      "source": [
        "Then fine-tune your model by calling [train()](https://huggingface.co/docs/transformers/main/en/main_classes/trainer#transformers.Trainer.train):"
      ]
    },
    {
      "cell_type": "code",
      "execution_count": null,
      "metadata": {
        "colab": {
          "base_uri": "https://localhost:8080/",
          "height": 259
        },
        "id": "1OSnQOEQ_tP8",
        "outputId": "199c3070-002c-4df7-d11d-bad8f297ffbb"
      },
      "outputs": [
        {
          "output_type": "stream",
          "name": "stderr",
          "text": [
            "/usr/local/lib/python3.10/dist-packages/transformers/optimization.py:411: FutureWarning: This implementation of AdamW is deprecated and will be removed in a future version. Use the PyTorch implementation torch.optim.AdamW instead, or set `no_deprecation_warning=True` to disable this warning\n",
            "  warnings.warn(\n"
          ]
        },
        {
          "output_type": "display_data",
          "data": {
            "text/plain": [
              "<IPython.core.display.HTML object>"
            ],
            "text/html": [
              "\n",
              "    <div>\n",
              "      \n",
              "      <progress value='375' max='375' style='width:300px; height:20px; vertical-align: middle;'></progress>\n",
              "      [375/375 30:20, Epoch 3/3]\n",
              "    </div>\n",
              "    <table border=\"1\" class=\"dataframe\">\n",
              "  <thead>\n",
              " <tr style=\"text-align: left;\">\n",
              "      <th>Epoch</th>\n",
              "      <th>Training Loss</th>\n",
              "      <th>Validation Loss</th>\n",
              "      <th>Accuracy</th>\n",
              "    </tr>\n",
              "  </thead>\n",
              "  <tbody>\n",
              "    <tr>\n",
              "      <td>1</td>\n",
              "      <td>No log</td>\n",
              "      <td>0.160630</td>\n",
              "      <td>0.668000</td>\n",
              "    </tr>\n",
              "    <tr>\n",
              "      <td>2</td>\n",
              "      <td>No log</td>\n",
              "      <td>0.147465</td>\n",
              "      <td>0.668000</td>\n",
              "    </tr>\n",
              "    <tr>\n",
              "      <td>3</td>\n",
              "      <td>No log</td>\n",
              "      <td>0.142955</td>\n",
              "      <td>0.668000</td>\n",
              "    </tr>\n",
              "  </tbody>\n",
              "</table><p>"
            ]
          },
          "metadata": {}
        },
        {
          "output_type": "execute_result",
          "data": {
            "text/plain": [
              "TrainOutput(global_step=375, training_loss=0.14430031331380208, metrics={'train_runtime': 1833.4287, 'train_samples_per_second': 1.636, 'train_steps_per_second': 0.205, 'total_flos': 57041142426000.0, 'train_loss': 0.14430031331380208, 'epoch': 3.0})"
            ]
          },
          "metadata": {},
          "execution_count": 45
        }
      ],
      "source": [
        "trainer.train()"
      ]
    },
    {
      "cell_type": "code",
      "source": [
        "trainer.predict(small_eval_dataset)"
      ],
      "metadata": {
        "id": "LjbCA4kmUSXP",
        "outputId": "1a5145f7-944e-4f98-f11f-66660cd1f97b",
        "colab": {
          "base_uri": "https://localhost:8080/",
          "height": 1000
        }
      },
      "execution_count": null,
      "outputs": [
        {
          "output_type": "display_data",
          "data": {
            "text/plain": [
              "<IPython.core.display.HTML object>"
            ],
            "text/html": []
          },
          "metadata": {}
        },
        {
          "output_type": "execute_result",
          "data": {
            "text/plain": [
              "PredictionOutput(predictions=array([[-2.07024608e-02],\n",
              "       [-1.67257134e-02],\n",
              "       [-1.38725732e-02],\n",
              "       [-9.51493450e-04],\n",
              "       [-6.64853537e-03],\n",
              "       [-2.35488359e-02],\n",
              "       [ 1.82957500e-01],\n",
              "       [-1.81558523e-02],\n",
              "       [ 1.60475299e-01],\n",
              "       [-2.15900633e-02],\n",
              "       [ 5.24173141e-01],\n",
              "       [ 2.36829481e-04],\n",
              "       [ 6.97628021e-01],\n",
              "       [-1.84487347e-02],\n",
              "       [-8.96423496e-03],\n",
              "       [-6.84423232e-03],\n",
              "       [ 4.85131353e-01],\n",
              "       [ 6.06829882e-01],\n",
              "       [-2.16550324e-02],\n",
              "       [-2.17453931e-02],\n",
              "       [ 9.16689277e-01],\n",
              "       [-2.45281700e-02],\n",
              "       [-1.50111113e-02],\n",
              "       [-7.71174498e-04],\n",
              "       [ 7.57836342e-01],\n",
              "       [-1.98444966e-02],\n",
              "       [-1.99561957e-02],\n",
              "       [ 2.06023946e-01],\n",
              "       [-1.66819338e-02],\n",
              "       [-5.60534857e-02],\n",
              "       [ 8.11971843e-01],\n",
              "       [-2.36356893e-04],\n",
              "       [-1.25194434e-02],\n",
              "       [ 5.41802764e-01],\n",
              "       [-2.16651503e-02],\n",
              "       [ 4.76156741e-01],\n",
              "       [-2.27040444e-02],\n",
              "       [-3.06756259e-03],\n",
              "       [-1.61684100e-02],\n",
              "       [ 2.61096001e-01],\n",
              "       [ 4.99747962e-01],\n",
              "       [-1.82526652e-02],\n",
              "       [ 8.01426172e-01],\n",
              "       [ 1.61423758e-01],\n",
              "       [-1.96665917e-02],\n",
              "       [-1.99345443e-02],\n",
              "       [-2.04854105e-02],\n",
              "       [ 9.04351473e-01],\n",
              "       [-2.02419106e-02],\n",
              "       [-2.12009046e-02],\n",
              "       [-1.74823347e-02],\n",
              "       [-2.00205687e-02],\n",
              "       [-1.66819338e-02],\n",
              "       [-2.19211522e-02],\n",
              "       [-2.14927886e-02],\n",
              "       [ 7.40599632e-01],\n",
              "       [-2.19630990e-02],\n",
              "       [ 7.44289994e-01],\n",
              "       [-1.67515818e-02],\n",
              "       [ 3.88982743e-01],\n",
              "       [-3.42241041e-02],\n",
              "       [-1.60949472e-02],\n",
              "       [-1.94837842e-02],\n",
              "       [-1.42190251e-02],\n",
              "       [ 9.76445615e-01],\n",
              "       [ 9.20792595e-02],\n",
              "       [ 4.79237109e-01],\n",
              "       [ 8.97023380e-01],\n",
              "       [-1.77155230e-02],\n",
              "       [-1.14644371e-01],\n",
              "       [ 3.95348698e-01],\n",
              "       [ 2.97916561e-01],\n",
              "       [-2.20387522e-02],\n",
              "       [-7.43384883e-02],\n",
              "       [ 1.18571140e-01],\n",
              "       [ 8.65238070e-01],\n",
              "       [-2.21178029e-02],\n",
              "       [-1.20616350e-02],\n",
              "       [-3.18339430e-02],\n",
              "       [-1.96165983e-02],\n",
              "       [ 9.71281171e-01],\n",
              "       [ 3.13173920e-01],\n",
              "       [ 6.09840512e-01],\n",
              "       [-1.89436618e-02],\n",
              "       [ 1.37124550e+00],\n",
              "       [-1.32122133e-02],\n",
              "       [-2.01581363e-02],\n",
              "       [-2.22292785e-02],\n",
              "       [-2.10761372e-02],\n",
              "       [-2.24898700e-02],\n",
              "       [ 8.39794636e-01],\n",
              "       [-1.93099324e-02],\n",
              "       [-2.02221069e-02],\n",
              "       [ 4.14136618e-01],\n",
              "       [-1.83094833e-02],\n",
              "       [-2.11933795e-02],\n",
              "       [-2.04150770e-02],\n",
              "       [-1.85191426e-02],\n",
              "       [-2.22776476e-02],\n",
              "       [ 1.05302513e+00],\n",
              "       [ 7.90436208e-01],\n",
              "       [ 3.61587733e-01],\n",
              "       [ 4.31853712e-01],\n",
              "       [-2.05000583e-02],\n",
              "       [ 8.65990639e-01],\n",
              "       [ 6.73743963e-01],\n",
              "       [ 3.41020077e-01],\n",
              "       [ 1.09058654e+00],\n",
              "       [-1.87035743e-02],\n",
              "       [ 8.52295339e-01],\n",
              "       [-2.00331453e-02],\n",
              "       [-1.67499874e-02],\n",
              "       [-3.46907438e-03],\n",
              "       [-8.47778656e-03],\n",
              "       [-1.00811962e-02],\n",
              "       [ 7.95296393e-03],\n",
              "       [ 5.54612815e-01],\n",
              "       [-2.21692864e-02],\n",
              "       [ 1.19853280e-01],\n",
              "       [ 8.39623451e-01],\n",
              "       [-1.93486456e-02],\n",
              "       [-3.66645269e-02],\n",
              "       [ 1.62146017e-01],\n",
              "       [ 4.66744274e-01],\n",
              "       [ 9.67662632e-01],\n",
              "       [ 3.44003499e-01],\n",
              "       [-1.34790037e-02],\n",
              "       [-7.85955228e-03],\n",
              "       [-4.12131362e-02],\n",
              "       [-6.28555485e-04],\n",
              "       [-1.90330837e-02],\n",
              "       [-2.18596105e-02],\n",
              "       [ 8.36817205e-01],\n",
              "       [-2.10620407e-02],\n",
              "       [-2.24485043e-02],\n",
              "       [ 4.29293603e-01],\n",
              "       [-1.60722975e-02],\n",
              "       [-2.04460565e-02],\n",
              "       [ 5.41281521e-01],\n",
              "       [-1.80101488e-02],\n",
              "       [-1.99707244e-02],\n",
              "       [-1.64512340e-02],\n",
              "       [ 5.59324741e-01],\n",
              "       [ 8.41622233e-01],\n",
              "       [-2.15758327e-02],\n",
              "       [-2.24040691e-02],\n",
              "       [ 1.14384829e-03],\n",
              "       [-1.57397036e-02],\n",
              "       [ 4.04880226e-01],\n",
              "       [-7.64347101e-03],\n",
              "       [ 2.76313007e-01],\n",
              "       [ 1.00670421e+00],\n",
              "       [-8.05812515e-03],\n",
              "       [ 2.42598191e-01],\n",
              "       [ 2.32926756e-01],\n",
              "       [ 1.12530053e+00],\n",
              "       [-8.20521452e-03],\n",
              "       [-1.49069373e-02],\n",
              "       [-1.05694924e-02],\n",
              "       [ 6.46631479e-01],\n",
              "       [ 9.03592587e-01],\n",
              "       [ 9.01494741e-01],\n",
              "       [ 5.06562948e-01],\n",
              "       [-2.04013083e-02],\n",
              "       [-1.44536588e-02],\n",
              "       [ 7.21073508e-01],\n",
              "       [ 7.92048991e-01],\n",
              "       [-7.60586783e-02],\n",
              "       [ 1.01285446e+00],\n",
              "       [ 4.36017871e-01],\n",
              "       [-2.06855182e-02],\n",
              "       [ 2.51466155e-01],\n",
              "       [-1.95887778e-02],\n",
              "       [-2.08966825e-02],\n",
              "       [ 1.49046138e-01],\n",
              "       [ 1.12596524e+00],\n",
              "       [ 1.89641759e-01],\n",
              "       [ 1.51972246e+00],\n",
              "       [ 1.46180149e-02],\n",
              "       [ 1.06695735e+00],\n",
              "       [ 9.18728039e-02],\n",
              "       [ 1.20490038e+00],\n",
              "       [ 1.30644470e-01],\n",
              "       [-1.48477200e-02],\n",
              "       [ 5.83412409e-01],\n",
              "       [-1.03488956e-02],\n",
              "       [-1.54071511e-03],\n",
              "       [ 4.48494613e-01],\n",
              "       [-5.79350675e-03],\n",
              "       [ 4.08948988e-01],\n",
              "       [ 1.34624541e+00],\n",
              "       [ 9.73456919e-01],\n",
              "       [-6.40779221e-03],\n",
              "       [-2.06573699e-02],\n",
              "       [-7.64347101e-03],\n",
              "       [ 8.54943514e-01],\n",
              "       [-1.64378528e-02],\n",
              "       [-1.48955379e-02],\n",
              "       [-2.02977750e-02],\n",
              "       [ 3.14922214e-01],\n",
              "       [ 3.49407434e-03],\n",
              "       [ 5.41110396e-01],\n",
              "       [ 8.02660584e-01],\n",
              "       [ 2.26836309e-01],\n",
              "       [-1.33609865e-02],\n",
              "       [-1.24983881e-02],\n",
              "       [ 1.55000794e+00],\n",
              "       [ 1.04889274e+00],\n",
              "       [ 1.43011770e-04],\n",
              "       [ 6.85940742e-01],\n",
              "       [-1.90280620e-02],\n",
              "       [ 3.85480195e-01],\n",
              "       [ 6.17363572e-01],\n",
              "       [ 5.53572513e-02],\n",
              "       [ 9.22742486e-01],\n",
              "       [-3.11689470e-02],\n",
              "       [-1.20059792e-02],\n",
              "       [-2.60526482e-02],\n",
              "       [-1.25299636e-02],\n",
              "       [-1.36417840e-02],\n",
              "       [ 2.47148141e-01],\n",
              "       [ 8.87015045e-01],\n",
              "       [-1.73468534e-02],\n",
              "       [ 4.40367788e-01],\n",
              "       [ 3.02496910e-01],\n",
              "       [ 1.55804381e-01],\n",
              "       [ 1.19145513e-01],\n",
              "       [-1.18619893e-02],\n",
              "       [-3.25063505e-04],\n",
              "       [ 2.35967368e-01],\n",
              "       [ 1.03006339e+00],\n",
              "       [ 7.50093460e-01],\n",
              "       [ 9.91554499e-01],\n",
              "       [-2.12432686e-02],\n",
              "       [ 5.36815524e-01],\n",
              "       [ 1.22772693e-03],\n",
              "       [ 8.96653235e-01],\n",
              "       [-1.58973727e-02],\n",
              "       [ 9.60758328e-01],\n",
              "       [ 5.49166679e-01],\n",
              "       [ 9.41988707e-01],\n",
              "       [ 9.02138650e-01],\n",
              "       [-1.76721755e-02],\n",
              "       [-1.55353937e-02],\n",
              "       [ 6.54276729e-01],\n",
              "       [-5.89410134e-04],\n",
              "       [-1.84763912e-02],\n",
              "       [ 1.99698746e-01],\n",
              "       [ 3.70266475e-02],\n",
              "       [ 5.82708359e-01],\n",
              "       [-1.65441349e-01],\n",
              "       [ 4.16568726e-01],\n",
              "       [-7.75251770e-03],\n",
              "       [ 7.02807382e-02],\n",
              "       [-1.86015014e-02],\n",
              "       [ 1.16281164e+00],\n",
              "       [ 3.66633326e-01],\n",
              "       [ 5.62779546e-01],\n",
              "       [ 7.03872085e-01],\n",
              "       [-1.63745079e-02],\n",
              "       [-1.45352874e-02],\n",
              "       [-2.18249056e-02],\n",
              "       [-2.74111424e-02],\n",
              "       [-2.15976033e-02],\n",
              "       [-2.13848446e-02],\n",
              "       [ 9.87800241e-01],\n",
              "       [-1.98782925e-02],\n",
              "       [-1.11601196e-01],\n",
              "       [-2.12764833e-02],\n",
              "       [ 5.82985342e-01],\n",
              "       [-1.43945459e-02],\n",
              "       [ 5.05862892e-01],\n",
              "       [-1.16775874e-02],\n",
              "       [-2.10986678e-02],\n",
              "       [-1.86070893e-02],\n",
              "       [-1.56691913e-02],\n",
              "       [-2.10698042e-02],\n",
              "       [ 1.05572855e+00],\n",
              "       [-2.28820387e-02],\n",
              "       [ 2.64860243e-01],\n",
              "       [ 9.62532833e-02],\n",
              "       [ 1.98776394e-01],\n",
              "       [-1.90535132e-02],\n",
              "       [ 1.06129742e+00],\n",
              "       [ 4.04655606e-01],\n",
              "       [ 7.93117881e-01],\n",
              "       [ 1.06129730e+00],\n",
              "       [-1.82111356e-02],\n",
              "       [-4.57509840e-03],\n",
              "       [ 1.39315999e+00],\n",
              "       [ 4.44720924e-01],\n",
              "       [-2.08992157e-02],\n",
              "       [-2.01393608e-02],\n",
              "       [-1.92025248e-02],\n",
              "       [-1.34300236e-02],\n",
              "       [ 1.77174862e-02],\n",
              "       [ 9.07795191e-01],\n",
              "       [-1.96378622e-02],\n",
              "       [ 3.01081181e-01],\n",
              "       [ 2.22280379e-02],\n",
              "       [ 1.78792894e-01],\n",
              "       [-3.72642913e-04],\n",
              "       [ 2.63575792e-01],\n",
              "       [ 5.35526216e-01],\n",
              "       [ 1.14909422e+00],\n",
              "       [ 7.64479935e-01],\n",
              "       [-1.55473147e-02],\n",
              "       [ 1.07163954e+00],\n",
              "       [ 1.00726867e+00],\n",
              "       [-7.85970129e-03],\n",
              "       [ 2.35107988e-01],\n",
              "       [ 1.69710979e-01],\n",
              "       [ 8.32028985e-01],\n",
              "       [ 8.10984001e-02],\n",
              "       [ 1.02136290e+00],\n",
              "       [ 8.26506853e-01],\n",
              "       [-2.07260642e-02],\n",
              "       [ 6.92061543e-01],\n",
              "       [ 6.34221137e-01],\n",
              "       [ 1.40328318e-01],\n",
              "       [ 3.18070561e-01],\n",
              "       [-1.96203385e-02],\n",
              "       [-3.50128822e-02],\n",
              "       [-2.18340550e-02],\n",
              "       [ 1.04237700e+00],\n",
              "       [-1.91919152e-02],\n",
              "       [-5.15371049e-03],\n",
              "       [-1.13809750e-04],\n",
              "       [ 8.69031191e-01],\n",
              "       [ 9.25564289e-01],\n",
              "       [-8.06994177e-03],\n",
              "       [-1.36302952e-02],\n",
              "       [-1.75040457e-02],\n",
              "       [ 9.81937945e-01],\n",
              "       [-2.05358062e-02],\n",
              "       [ 6.12994321e-02],\n",
              "       [ 1.05774534e+00],\n",
              "       [-2.26543937e-02],\n",
              "       [ 3.03976625e-01],\n",
              "       [ 7.42676735e-01],\n",
              "       [ 2.94756889e-01],\n",
              "       [ 8.96925330e-01],\n",
              "       [-9.99892363e-04],\n",
              "       [-1.99894253e-02],\n",
              "       [ 2.21177384e-01],\n",
              "       [-1.20954756e-02],\n",
              "       [ 1.17672145e+00],\n",
              "       [ 7.31823921e-01],\n",
              "       [ 1.13886225e+00],\n",
              "       [ 2.78892249e-01],\n",
              "       [ 6.46483898e-01],\n",
              "       [ 1.68961465e-01],\n",
              "       [ 1.23811090e+00],\n",
              "       [ 7.72780836e-01],\n",
              "       [ 7.62099147e-01],\n",
              "       [ 4.41266924e-01],\n",
              "       [-2.24814806e-02],\n",
              "       [-5.03442846e-02],\n",
              "       [-1.98259596e-02],\n",
              "       [ 5.67381911e-04],\n",
              "       [ 1.01831782e+00],\n",
              "       [ 7.42306709e-01],\n",
              "       [-1.94280688e-02],\n",
              "       [-1.46038476e-02],\n",
              "       [-1.58229414e-02],\n",
              "       [-1.81243215e-02],\n",
              "       [ 8.86820972e-01],\n",
              "       [ 9.39847827e-01],\n",
              "       [-5.50405169e-03],\n",
              "       [ 9.29415405e-01],\n",
              "       [ 8.16784024e-01],\n",
              "       [-2.06923429e-02],\n",
              "       [ 8.71848583e-01],\n",
              "       [-8.12233426e-03],\n",
              "       [-2.16457788e-02],\n",
              "       [-2.32604090e-02],\n",
              "       [-2.11715642e-02],\n",
              "       [-8.56106915e-03],\n",
              "       [ 1.14909422e+00],\n",
              "       [-5.39798252e-02],\n",
              "       [ 2.42158145e-01],\n",
              "       [-1.42605398e-02],\n",
              "       [ 4.14351195e-01],\n",
              "       [ 4.51978177e-01],\n",
              "       [-2.09247712e-02],\n",
              "       [-2.25555841e-02],\n",
              "       [ 1.04418240e-01],\n",
              "       [ 8.24078679e-01],\n",
              "       [-1.86570380e-02],\n",
              "       [-2.27291528e-02],\n",
              "       [ 7.52264142e-01],\n",
              "       [-1.41625497e-02],\n",
              "       [ 9.29176748e-01],\n",
              "       [ 8.41564536e-01],\n",
              "       [ 8.14454317e-01],\n",
              "       [-1.60464291e-02],\n",
              "       [-1.57484058e-02],\n",
              "       [ 8.94440055e-01],\n",
              "       [ 2.18544930e-01],\n",
              "       [ 7.68566310e-01],\n",
              "       [-5.79075003e-03],\n",
              "       [-1.50485877e-02],\n",
              "       [-1.76726673e-02],\n",
              "       [ 2.08076388e-01],\n",
              "       [-2.02336106e-02],\n",
              "       [ 1.00634348e+00],\n",
              "       [-2.15180758e-02],\n",
              "       [ 5.75766742e-01],\n",
              "       [-3.10430565e-04],\n",
              "       [ 9.69886601e-01],\n",
              "       [ 3.13597471e-01],\n",
              "       [-4.60798107e-02],\n",
              "       [ 1.21844765e-02],\n",
              "       [-8.56637880e-02],\n",
              "       [ 8.70445490e-01],\n",
              "       [-2.16945056e-02],\n",
              "       [-1.57037023e-02],\n",
              "       [ 9.06283081e-01],\n",
              "       [ 8.70109797e-01],\n",
              "       [ 7.48740077e-01],\n",
              "       [-2.07056347e-02],\n",
              "       [-1.76199023e-02],\n",
              "       [ 6.24437571e-01],\n",
              "       [ 5.33546247e-02],\n",
              "       [-1.74793694e-02],\n",
              "       [ 4.29065861e-02],\n",
              "       [-2.21001152e-02],\n",
              "       [-1.58460531e-02],\n",
              "       [ 8.94202113e-01],\n",
              "       [-1.41627286e-02],\n",
              "       [-1.93464221e-03],\n",
              "       [-8.56513008e-02],\n",
              "       [-1.93808917e-02],\n",
              "       [ 8.96317326e-03],\n",
              "       [ 3.43901068e-01],\n",
              "       [ 5.16265810e-01],\n",
              "       [ 5.02207398e-01],\n",
              "       [-7.85970129e-03],\n",
              "       [ 5.57659984e-01],\n",
              "       [ 8.79926443e-01],\n",
              "       [ 6.56012118e-01],\n",
              "       [-5.36446236e-02],\n",
              "       [ 7.08318353e-01],\n",
              "       [ 1.02277410e+00],\n",
              "       [-1.57039259e-02],\n",
              "       [ 1.05360854e+00],\n",
              "       [ 8.06806564e-01],\n",
              "       [ 5.52687287e-01],\n",
              "       [ 8.55525494e-01],\n",
              "       [-1.88911948e-02],\n",
              "       [ 2.16753092e-02],\n",
              "       [ 7.20312119e-01],\n",
              "       [ 9.56352711e-01],\n",
              "       [-2.18932722e-02],\n",
              "       [ 8.53110492e-01],\n",
              "       [-2.02177111e-02],\n",
              "       [-1.90636162e-02],\n",
              "       [-7.85970129e-03],\n",
              "       [ 1.92855000e-01],\n",
              "       [ 9.58242834e-01],\n",
              "       [-2.09063534e-02],\n",
              "       [-1.32203493e-02],\n",
              "       [ 9.39402640e-01],\n",
              "       [-2.13863943e-02],\n",
              "       [ 1.03196645e+00],\n",
              "       [ 8.38715196e-01],\n",
              "       [-9.69561562e-02],\n",
              "       [ 1.10518515e+00],\n",
              "       [-1.16656516e-02],\n",
              "       [-1.29176620e-02],\n",
              "       [ 5.63739181e-01],\n",
              "       [ 6.71129450e-02],\n",
              "       [-1.13498066e-02],\n",
              "       [-1.73437987e-02],\n",
              "       [-7.85970129e-03],\n",
              "       [-8.60137679e-03],\n",
              "       [-1.61410663e-02],\n",
              "       [ 8.85909319e-01],\n",
              "       [ 8.13541114e-01],\n",
              "       [-1.51538346e-02],\n",
              "       [ 1.00684559e+00],\n",
              "       [ 3.27353001e-01],\n",
              "       [-2.15706322e-02],\n",
              "       [ 1.30477071e-01],\n",
              "       [-1.59914885e-02],\n",
              "       [-1.58358011e-02],\n",
              "       [-2.04938445e-02],\n",
              "       [-2.17124913e-02],\n",
              "       [ 9.83734012e-01],\n",
              "       [-2.14864407e-02],\n",
              "       [ 6.74942493e-01],\n",
              "       [ 1.42537713e-01],\n",
              "       [-2.56783608e-02],\n",
              "       [ 6.95887744e-01],\n",
              "       [-1.70020405e-02],\n",
              "       [ 8.40081692e-01],\n",
              "       [-1.78688560e-02],\n",
              "       [-5.26007498e-03],\n",
              "       [ 3.93520445e-01],\n",
              "       [-2.19567958e-02],\n",
              "       [-1.87541638e-02],\n",
              "       [-1.94496606e-02],\n",
              "       [-1.32159237e-02],\n",
              "       [ 7.49383643e-02],\n",
              "       [ 7.97035754e-01],\n",
              "       [-1.18631516e-02],\n",
              "       [-1.80168692e-02],\n",
              "       [-1.90005992e-02],\n",
              "       [ 7.65889049e-01],\n",
              "       [-1.91786531e-02],\n",
              "       [-1.51227210e-02],\n",
              "       [-2.25519184e-02],\n",
              "       [-7.31543526e-02],\n",
              "       [-2.08084378e-02],\n",
              "       [-1.09867696e-02],\n",
              "       [ 2.84148127e-01],\n",
              "       [-1.59521818e-01],\n",
              "       [ 1.14498939e-02],\n",
              "       [ 7.92640924e-01],\n",
              "       [ 2.71679401e-01],\n",
              "       [ 9.13702548e-01],\n",
              "       [-6.49591768e-03],\n",
              "       [-2.06512008e-02],\n",
              "       [ 6.13124371e-01],\n",
              "       [-5.38150140e-04],\n",
              "       [-1.60464738e-02],\n",
              "       [-1.98866818e-02],\n",
              "       [-7.18647763e-02],\n",
              "       [-2.05748025e-02],\n",
              "       [ 2.18269899e-01],\n",
              "       [ 8.39766860e-01],\n",
              "       [-2.15121154e-02],\n",
              "       [ 9.18085933e-01],\n",
              "       [-1.90378372e-02],\n",
              "       [-2.17611287e-02],\n",
              "       [ 8.02762926e-01],\n",
              "       [-7.85970129e-03],\n",
              "       [-2.04007868e-02],\n",
              "       [ 3.72522354e-01],\n",
              "       [ 7.93167174e-01],\n",
              "       [-2.10104827e-02],\n",
              "       [ 1.53795004e-01],\n",
              "       [ 1.36429127e-02],\n",
              "       [ 9.76230323e-01],\n",
              "       [-2.27725152e-02],\n",
              "       [-1.64301340e-02],\n",
              "       [-2.00555865e-02],\n",
              "       [ 6.80752695e-01],\n",
              "       [-1.79237220e-02],\n",
              "       [-1.87264774e-02],\n",
              "       [-3.10326257e-04],\n",
              "       [ 9.93360281e-01],\n",
              "       [ 9.81385827e-01],\n",
              "       [ 1.16482582e-02],\n",
              "       [-2.03708950e-02],\n",
              "       [-8.04073550e-03],\n",
              "       [-6.99831769e-02],\n",
              "       [-1.96437333e-02],\n",
              "       [-1.23609100e-02],\n",
              "       [-8.96423496e-03],\n",
              "       [ 9.85946119e-01],\n",
              "       [ 1.93168998e-01],\n",
              "       [ 5.10373652e-01],\n",
              "       [ 6.05058670e-01],\n",
              "       [ 6.12992235e-02],\n",
              "       [ 1.03488636e+00],\n",
              "       [-1.79222766e-02],\n",
              "       [-2.27109585e-02],\n",
              "       [ 3.56544793e-01],\n",
              "       [ 7.82094717e-01],\n",
              "       [ 1.78095564e-01],\n",
              "       [ 2.46498346e-01],\n",
              "       [-1.23758856e-02],\n",
              "       [-1.87576059e-02],\n",
              "       [ 6.08680964e-01],\n",
              "       [ 5.75528383e-01],\n",
              "       [-2.26389114e-02],\n",
              "       [-2.21733991e-02],\n",
              "       [ 9.05506968e-01],\n",
              "       [ 4.24452931e-01],\n",
              "       [ 4.98782307e-01],\n",
              "       [ 5.09868860e-01],\n",
              "       [-1.85472164e-02],\n",
              "       [-6.26263246e-02],\n",
              "       [-1.19427238e-02],\n",
              "       [ 1.19794786e-01],\n",
              "       [-1.61215905e-02],\n",
              "       [ 7.57171214e-01],\n",
              "       [ 5.02778530e-01],\n",
              "       [-1.67515818e-02],\n",
              "       [ 1.17287147e+00],\n",
              "       [-2.94047538e-02],\n",
              "       [ 1.20235025e-03],\n",
              "       [-6.81448355e-02],\n",
              "       [ 1.23328008e-01],\n",
              "       [-2.28488687e-02],\n",
              "       [ 8.28933299e-01],\n",
              "       [ 3.94105554e-01],\n",
              "       [ 8.06786679e-03],\n",
              "       [-1.23786572e-02],\n",
              "       [ 6.78174317e-01],\n",
              "       [ 8.82274091e-01],\n",
              "       [-2.18221191e-02],\n",
              "       [ 1.01807714e+00],\n",
              "       [-8.17728974e-03],\n",
              "       [ 9.74035501e-01],\n",
              "       [ 9.18085933e-01],\n",
              "       [ 9.75984991e-01],\n",
              "       [-2.09741686e-02],\n",
              "       [ 1.27535104e-03],\n",
              "       [ 9.76612642e-02],\n",
              "       [ 1.11932240e-01],\n",
              "       [ 1.00684559e+00],\n",
              "       [ 3.26474518e-01],\n",
              "       [-1.76294241e-02],\n",
              "       [-5.89976378e-04],\n",
              "       [ 1.36139300e-02],\n",
              "       [ 5.21448767e-03],\n",
              "       [-1.58275161e-02],\n",
              "       [-2.24144105e-02],\n",
              "       [-1.12679992e-02],\n",
              "       [-1.99666712e-02],\n",
              "       [-1.95336733e-02],\n",
              "       [ 1.89408690e-01],\n",
              "       [-1.76812205e-02],\n",
              "       [ 5.30051410e-01],\n",
              "       [-1.70934591e-02],\n",
              "       [ 6.13464534e-01],\n",
              "       [-2.18375567e-02],\n",
              "       [ 1.06808615e+00],\n",
              "       [ 2.16643453e-01],\n",
              "       [ 8.22284997e-01],\n",
              "       [ 7.11857796e-01],\n",
              "       [ 3.86909813e-01],\n",
              "       [-1.71457324e-02],\n",
              "       [-1.59273186e-04],\n",
              "       [ 8.63416553e-01],\n",
              "       [-7.66708935e-03],\n",
              "       [ 1.01560152e+00],\n",
              "       [-1.75524447e-02],\n",
              "       [-8.31718184e-03],\n",
              "       [ 1.02261436e+00],\n",
              "       [-2.04826985e-02],\n",
              "       [-1.89751927e-02],\n",
              "       [ 5.75528264e-01],\n",
              "       [ 1.19661643e-04],\n",
              "       [-2.07523201e-02],\n",
              "       [-1.60527918e-02],\n",
              "       [-4.02390622e-02],\n",
              "       [-2.16536317e-02],\n",
              "       [-2.02607159e-02],\n",
              "       [-2.20647100e-02],\n",
              "       [ 4.69943851e-01],\n",
              "       [-1.75040457e-02],\n",
              "       [-2.17278097e-02],\n",
              "       [-1.33836959e-02],\n",
              "       [ 7.44528890e-01],\n",
              "       [ 7.70002067e-01],\n",
              "       [ 9.57295895e-01],\n",
              "       [-1.95893291e-02],\n",
              "       [ 6.93056345e-01],\n",
              "       [ 8.45610023e-01],\n",
              "       [-7.64561677e-03],\n",
              "       [ 7.63427138e-01],\n",
              "       [ 3.25462520e-01],\n",
              "       [ 5.92225333e-05],\n",
              "       [ 1.00794446e+00],\n",
              "       [ 7.09012330e-01],\n",
              "       [-1.85486469e-02],\n",
              "       [ 1.50561973e-01],\n",
              "       [ 2.17537820e-01],\n",
              "       [ 1.05328488e+00],\n",
              "       [ 9.34867620e-01],\n",
              "       [ 6.68288291e-01],\n",
              "       [ 6.86901331e-01],\n",
              "       [ 5.84020019e-01],\n",
              "       [-6.81805098e-03],\n",
              "       [-2.12470684e-02],\n",
              "       [ 4.15556468e-02],\n",
              "       [ 1.03805923e+00],\n",
              "       [ 8.72061774e-02],\n",
              "       [ 7.83553004e-01],\n",
              "       [ 9.12083089e-01],\n",
              "       [ 5.51964641e-01],\n",
              "       [-2.12612543e-02],\n",
              "       [ 1.79113653e-02],\n",
              "       [ 7.48233080e-01],\n",
              "       [ 7.64173448e-01],\n",
              "       [ 1.38602078e-01],\n",
              "       [ 8.50015402e-01],\n",
              "       [ 9.47189748e-01],\n",
              "       [ 6.15410864e-01],\n",
              "       [-2.10149679e-02],\n",
              "       [ 6.90518856e-01],\n",
              "       [ 9.64368045e-01],\n",
              "       [-6.15159341e-04],\n",
              "       [ 1.03594708e+00],\n",
              "       [ 5.97746372e-01],\n",
              "       [-1.60763655e-02],\n",
              "       [-1.62907932e-02],\n",
              "       [-2.75445972e-02],\n",
              "       [-1.85200814e-02],\n",
              "       [ 1.04649198e+00],\n",
              "       [ 2.35801246e-02],\n",
              "       [-1.65961180e-02],\n",
              "       [-1.00140832e-01],\n",
              "       [-1.80413518e-02],\n",
              "       [-1.69284288e-02],\n",
              "       [-9.01851989e-03],\n",
              "       [ 3.66232283e-02],\n",
              "       [-8.10145773e-03],\n",
              "       [ 4.68286484e-01],\n",
              "       [-1.98786054e-02],\n",
              "       [-1.16603021e-02],\n",
              "       [-8.47537257e-03],\n",
              "       [ 2.77098715e-01],\n",
              "       [-1.58947948e-02],\n",
              "       [ 1.38613582e-01],\n",
              "       [-1.85011867e-02],\n",
              "       [-2.32791696e-02],\n",
              "       [ 9.09621119e-01],\n",
              "       [ 4.98087145e-02],\n",
              "       [ 3.70355189e-01],\n",
              "       [-1.85380075e-02],\n",
              "       [-2.00091247e-02],\n",
              "       [ 1.27397454e+00],\n",
              "       [-1.45592485e-02],\n",
              "       [-3.14564467e-03],\n",
              "       [-4.11325805e-02],\n",
              "       [-3.68217789e-02],\n",
              "       [ 7.72988439e-01],\n",
              "       [-2.01657210e-02],\n",
              "       [ 2.50758559e-01],\n",
              "       [-1.80611704e-02],\n",
              "       [-8.54047574e-03],\n",
              "       [ 2.02825755e-01],\n",
              "       [ 9.78116810e-01],\n",
              "       [ 7.50577211e-01],\n",
              "       [-2.26009581e-02],\n",
              "       [-2.10283790e-02],\n",
              "       [ 1.92478835e-03],\n",
              "       [-2.18846742e-02],\n",
              "       [ 2.10767350e-04],\n",
              "       [ 1.97031230e-01],\n",
              "       [ 7.67725229e-01],\n",
              "       [ 1.00778461e+00],\n",
              "       [ 8.01619291e-01],\n",
              "       [-1.26409028e-02],\n",
              "       [ 4.28493470e-01],\n",
              "       [ 3.87520827e-02],\n",
              "       [ 7.88402438e-01],\n",
              "       [ 8.87448072e-01],\n",
              "       [ 8.00046742e-01],\n",
              "       [-1.99007783e-02],\n",
              "       [ 1.36429276e-02],\n",
              "       [ 9.83077884e-01],\n",
              "       [-7.81354830e-02],\n",
              "       [-2.09212247e-02],\n",
              "       [-4.32031834e-03],\n",
              "       [ 6.76111758e-01],\n",
              "       [-2.14928035e-02],\n",
              "       [-1.55386720e-02],\n",
              "       [ 6.37654543e-01],\n",
              "       [-1.88113693e-02],\n",
              "       [-2.02401523e-02],\n",
              "       [ 1.07147121e+00],\n",
              "       [-2.18124483e-02],\n",
              "       [ 6.67433143e-01],\n",
              "       [-2.18390021e-02],\n",
              "       [-2.03913394e-02],\n",
              "       [ 9.29143965e-01],\n",
              "       [ 5.79635262e-01],\n",
              "       [ 9.21114683e-01],\n",
              "       [ 8.42605352e-01],\n",
              "       [-1.63981859e-02],\n",
              "       [-7.85955228e-03],\n",
              "       [ 8.43511581e-01],\n",
              "       [ 4.57370430e-01],\n",
              "       [-1.68480072e-02],\n",
              "       [ 6.52115703e-01],\n",
              "       [ 9.80084836e-01],\n",
              "       [ 1.93214983e-01],\n",
              "       [ 6.27608955e-01],\n",
              "       [ 2.01746881e-01],\n",
              "       [-7.85970129e-03],\n",
              "       [-2.50158403e-02],\n",
              "       [-1.89942513e-02],\n",
              "       [ 3.88515778e-02],\n",
              "       [-2.26328615e-02],\n",
              "       [ 9.56524909e-01],\n",
              "       [ 9.43135917e-01],\n",
              "       [ 3.96219164e-01],\n",
              "       [-2.07397733e-02],\n",
              "       [ 9.60591659e-02],\n",
              "       [ 9.16519821e-01],\n",
              "       [ 6.52722418e-01],\n",
              "       [ 7.62301147e-01],\n",
              "       [ 6.90767407e-01],\n",
              "       [-4.36649285e-02],\n",
              "       [ 6.45471632e-01],\n",
              "       [ 8.91854048e-01],\n",
              "       [-8.11808743e-03],\n",
              "       [-2.06303392e-02],\n",
              "       [-7.92428292e-03],\n",
              "       [-1.52289215e-02],\n",
              "       [ 1.42966616e+00],\n",
              "       [ 1.21541464e+00],\n",
              "       [ 1.10443580e+00],\n",
              "       [ 2.21616894e-01],\n",
              "       [-1.83879379e-02],\n",
              "       [ 8.27939153e-01],\n",
              "       [-2.14087460e-02],\n",
              "       [ 4.34758551e-02],\n",
              "       [-1.53102521e-02],\n",
              "       [-1.43246595e-02],\n",
              "       [-1.56347696e-02],\n",
              "       [-2.15301458e-02],\n",
              "       [-2.21748296e-02],\n",
              "       [-1.26090590e-02],\n",
              "       [-2.04490963e-02],\n",
              "       [-1.21425185e-02],\n",
              "       [-7.85970129e-03],\n",
              "       [ 2.46238321e-01],\n",
              "       [ 1.00876868e+00],\n",
              "       [-1.56649295e-02],\n",
              "       [-1.87179241e-02],\n",
              "       [ 1.14648994e-02],\n",
              "       [-1.96602736e-02],\n",
              "       [-2.08719019e-02],\n",
              "       [ 2.70811081e-01],\n",
              "       [ 8.91981363e-01],\n",
              "       [-2.10761521e-02],\n",
              "       [ 7.56420076e-01],\n",
              "       [-2.20407043e-02],\n",
              "       [-1.89062003e-02],\n",
              "       [-1.40743647e-02],\n",
              "       [ 1.19894899e-01],\n",
              "       [ 8.39210227e-02],\n",
              "       [-4.29819785e-02],\n",
              "       [ 1.02777565e+00],\n",
              "       [-4.23412286e-02],\n",
              "       [ 3.85480195e-01],\n",
              "       [-1.84965078e-02],\n",
              "       [-1.87655482e-02],\n",
              "       [ 7.58892775e-01],\n",
              "       [ 1.01914041e-01],\n",
              "       [ 5.64292848e-01],\n",
              "       [ 9.20874119e-01],\n",
              "       [-1.92829166e-02],\n",
              "       [-3.09658591e-02],\n",
              "       [ 4.63899046e-01],\n",
              "       [ 1.50291681e-01],\n",
              "       [ 7.64582276e-01],\n",
              "       [ 5.83412409e-01],\n",
              "       [-1.77385453e-02],\n",
              "       [ 5.84872603e-01],\n",
              "       [ 8.71129155e-01],\n",
              "       [-1.87131260e-02],\n",
              "       [-2.35085730e-02],\n",
              "       [-2.07119677e-02],\n",
              "       [ 7.17396855e-01],\n",
              "       [ 9.26013231e-01],\n",
              "       [-1.94890890e-02],\n",
              "       [ 2.81526864e-01],\n",
              "       [-2.20277999e-02],\n",
              "       [ 1.35970199e+00],\n",
              "       [ 1.49466306e-01],\n",
              "       [-1.81045178e-02],\n",
              "       [-1.00272689e-02],\n",
              "       [ 4.97556239e-01],\n",
              "       [ 6.93377033e-02],\n",
              "       [ 7.58834779e-01],\n",
              "       [-2.12614480e-02],\n",
              "       [-2.15232912e-02],\n",
              "       [ 1.04292202e+00],\n",
              "       [-1.01698581e-02],\n",
              "       [-2.26780120e-02],\n",
              "       [-1.43804345e-02],\n",
              "       [-1.17188785e-02],\n",
              "       [-7.83860125e-03],\n",
              "       [ 6.95515037e-01],\n",
              "       [ 1.95529550e-01],\n",
              "       [ 4.53719527e-01],\n",
              "       [-1.87823121e-02],\n",
              "       [-8.25072266e-03],\n",
              "       [-1.82162765e-02],\n",
              "       [ 1.23746302e-02],\n",
              "       [ 2.65104294e-01],\n",
              "       [-1.87132601e-02],\n",
              "       [ 4.47085232e-01],\n",
              "       [ 9.85729575e-01],\n",
              "       [-1.16747264e-02],\n",
              "       [ 3.41510624e-01],\n",
              "       [-2.15341244e-02],\n",
              "       [ 2.14235514e-01],\n",
              "       [ 4.22551238e-07],\n",
              "       [-2.11263094e-02],\n",
              "       [-1.81805585e-02],\n",
              "       [ 9.81964707e-01],\n",
              "       [-2.39496473e-02],\n",
              "       [-1.53543148e-02],\n",
              "       [-1.67543385e-02],\n",
              "       [-6.73353160e-03],\n",
              "       [-1.78654734e-02],\n",
              "       [-1.97012071e-02],\n",
              "       [-1.28946248e-02],\n",
              "       [-1.68832601e-03],\n",
              "       [ 1.10999370e+00],\n",
              "       [-1.20457802e-02],\n",
              "       [ 6.20021462e-01],\n",
              "       [-6.49336651e-02],\n",
              "       [ 4.93479371e-01],\n",
              "       [ 6.39160395e-01],\n",
              "       [-1.53137986e-02],\n",
              "       [ 2.15318486e-01],\n",
              "       [ 4.16399360e-01],\n",
              "       [-2.32986603e-02],\n",
              "       [-1.28864292e-02],\n",
              "       [ 7.20284462e-01],\n",
              "       [-4.02145945e-02],\n",
              "       [ 8.39294612e-01],\n",
              "       [-2.20434908e-02],\n",
              "       [-2.11934093e-02],\n",
              "       [ 8.67871165e-01],\n",
              "       [ 1.21804202e+00],\n",
              "       [ 1.14238448e-01],\n",
              "       [ 7.15311706e-01],\n",
              "       [ 6.96797252e-01],\n",
              "       [-1.30643938e-02],\n",
              "       [ 1.22136378e+00],\n",
              "       [-1.71899740e-02],\n",
              "       [ 4.00175989e-01],\n",
              "       [-2.14475337e-02],\n",
              "       [-4.04867046e-02],\n",
              "       [-1.73864309e-02],\n",
              "       [-2.02228222e-02],\n",
              "       [ 8.54005218e-01],\n",
              "       [ 1.10764635e+00],\n",
              "       [-8.27855803e-03],\n",
              "       [ 1.44622147e-01],\n",
              "       [ 5.54370522e-01],\n",
              "       [-2.29692403e-02],\n",
              "       [ 5.81514001e-01],\n",
              "       [-1.79327074e-02],\n",
              "       [-2.11322550e-02],\n",
              "       [ 7.46905625e-01],\n",
              "       [ 3.50349993e-01],\n",
              "       [ 6.69115663e-01],\n",
              "       [ 4.65795964e-01],\n",
              "       [-1.78243015e-02],\n",
              "       [-5.62005602e-02],\n",
              "       [-7.85955228e-03],\n",
              "       [ 5.04013896e-01],\n",
              "       [ 5.99667728e-01],\n",
              "       [ 5.67217350e-01],\n",
              "       [ 3.81017804e-01],\n",
              "       [-1.48956124e-02],\n",
              "       [ 5.06562948e-01],\n",
              "       [ 9.74917971e-03],\n",
              "       [-4.55881143e-03],\n",
              "       [ 1.40126228e-01],\n",
              "       [-1.64178852e-02],\n",
              "       [ 9.12083089e-01],\n",
              "       [-1.26198623e-02],\n",
              "       [ 9.20792595e-02],\n",
              "       [ 6.48547769e-01],\n",
              "       [ 7.79453754e-01],\n",
              "       [-1.38313118e-02],\n",
              "       [ 5.62608004e-01],\n",
              "       [ 4.60494876e-01],\n",
              "       [ 8.62339735e-01],\n",
              "       [ 4.16231453e-01],\n",
              "       [ 1.05661714e+00],\n",
              "       [ 8.26303363e-01],\n",
              "       [-1.42855439e-02],\n",
              "       [-1.01480130e-02],\n",
              "       [-1.63935814e-02],\n",
              "       [-9.14776102e-02],\n",
              "       [ 5.92279136e-01],\n",
              "       [ 6.46879017e-01],\n",
              "       [-1.25511531e-02],\n",
              "       [ 7.84925938e-01],\n",
              "       [-1.86381582e-02],\n",
              "       [ 9.36491966e-01],\n",
              "       [-2.09551845e-02],\n",
              "       [ 5.32412469e-01],\n",
              "       [-1.90593842e-02],\n",
              "       [-2.02850346e-02],\n",
              "       [-2.09460650e-02],\n",
              "       [ 3.61001760e-01],\n",
              "       [-1.60814170e-02],\n",
              "       [ 3.70913774e-01],\n",
              "       [-1.97901372e-02],\n",
              "       [ 8.81256044e-01],\n",
              "       [-2.06855182e-02],\n",
              "       [ 7.02192426e-01],\n",
              "       [-8.05858709e-03],\n",
              "       [ 7.40890026e-01],\n",
              "       [ 8.77347469e-01],\n",
              "       [-2.03921143e-02]], dtype=float32), label_ids=array([0., 0., 0., 0., 1., 0., 1., 0., 1., 0., 0., 0., 1., 0., 0., 0., 1.,\n",
              "       1., 0., 0., 1., 0., 0., 0., 0., 0., 0., 0., 0., 0., 1., 0., 0., 1.,\n",
              "       0., 1., 0., 0., 0., 0., 0., 0., 0., 0., 0., 0., 0., 1., 0., 0., 0.,\n",
              "       0., 0., 0., 0., 1., 0., 1., 1., 0., 0., 0., 0., 0., 1., 1., 0., 1.,\n",
              "       0., 0., 1., 0., 0., 0., 0., 1., 0., 1., 0., 0., 1., 0., 0., 0., 0.,\n",
              "       0., 0., 0., 0., 0., 1., 0., 0., 0., 0., 0., 0., 0., 0., 1., 0., 0.,\n",
              "       0., 0., 1., 1., 1., 1., 0., 1., 0., 0., 0., 0., 0., 0., 1., 0., 0.,\n",
              "       0., 0., 0., 0., 1., 1., 2., 0., 0., 0., 0., 0., 0., 1., 0., 0., 1.,\n",
              "       0., 0., 0., 0., 0., 0., 1., 1., 0., 0., 0., 0., 0., 0., 0., 1., 0.,\n",
              "       0., 0., 0., 1., 0., 0., 1., 1., 1., 2., 0., 0., 1., 1., 0., 0., 0.,\n",
              "       0., 0., 0., 0., 1., 1., 0., 2., 0., 2., 0., 0., 1., 0., 1., 0., 0.,\n",
              "       1., 0., 1., 2., 1., 0., 0., 0., 2., 0., 0., 0., 0., 0., 1., 1., 0.,\n",
              "       0., 0., 2., 1., 0., 1., 0., 0., 0., 0., 1., 0., 0., 0., 0., 0., 1.,\n",
              "       1., 0., 1., 0., 0., 1., 0., 0., 0., 1., 0., 1., 0., 1., 0., 1., 0.,\n",
              "       1., 1., 1., 1., 0., 0., 0., 0., 0., 0., 0., 1., 0., 1., 0., 0., 0.,\n",
              "       2., 0., 0., 1., 0., 0., 0., 0., 0., 0., 1., 0., 0., 0., 2., 0., 1.,\n",
              "       0., 0., 0., 0., 0., 0., 0., 0., 0., 0., 0., 2., 0., 1., 2., 0., 0.,\n",
              "       2., 1., 0., 0., 0., 0., 0., 1., 0., 0., 0., 1., 0., 1., 0., 1., 1.,\n",
              "       0., 1., 1., 0., 0., 0., 2., 0., 1., 1., 0., 0., 1., 0., 0., 1., 0.,\n",
              "       0., 1., 0., 0., 0., 1., 1., 0., 0., 0., 1., 0., 0., 1., 0., 0., 1.,\n",
              "       1., 1., 0., 0., 0., 0., 1., 0., 1., 0., 1., 0., 1., 1., 1., 0., 0.,\n",
              "       0., 0., 0., 1., 1., 0., 0., 0., 0., 1., 0., 0., 2., 1., 0., 1., 0.,\n",
              "       0., 0., 0., 0., 1., 0., 0., 0., 2., 0., 0., 0., 1., 1., 0., 0., 0.,\n",
              "       0., 1., 1., 1., 0., 0., 0., 1., 1., 0., 0., 0., 1., 0., 0., 0., 0.,\n",
              "       0., 1., 1., 0., 0., 0., 2., 0., 0., 1., 1., 0., 0., 0., 0., 0., 0.,\n",
              "       0., 0., 0., 1., 0., 0., 0., 0., 0., 1., 0., 1., 0., 1., 1., 2., 0.,\n",
              "       1., 1., 0., 1., 1., 0., 0., 0., 1., 0., 1., 0., 1., 0., 0., 0., 1.,\n",
              "       1., 0., 0., 1., 0., 1., 1., 0., 1., 0., 0., 0., 0., 0., 0., 0., 0.,\n",
              "       0., 1., 1., 0., 1., 1., 0., 0., 0., 0., 0., 0., 1., 0., 1., 1., 0.,\n",
              "       1., 0., 1., 0., 1., 1., 0., 0., 0., 0., 0., 1., 0., 0., 0., 1., 0.,\n",
              "       0., 0., 0., 0., 0., 1., 2., 0., 1., 1., 1., 0., 0., 0., 0., 0., 0.,\n",
              "       1., 0., 0., 2., 0., 1., 0., 0., 1., 0., 0., 1., 1., 0., 0., 0., 1.,\n",
              "       0., 0., 0., 0., 0., 0., 0., 1., 1., 1., 0., 0., 0., 0., 0., 0., 1.,\n",
              "       0., 1., 1., 0., 0., 0., 0., 1., 1., 0., 0., 0., 0., 1., 1., 0., 0.,\n",
              "       1., 1., 1., 0., 0., 0., 0., 0., 0., 1., 0., 1., 0., 0., 0., 0., 0.,\n",
              "       0., 1., 0., 0., 0., 1., 1., 0., 1., 0., 0., 1., 1., 0., 0., 0., 0.,\n",
              "       1., 0., 0., 0., 0., 0., 0., 0., 0., 0., 0., 0., 0., 1., 0., 1., 0.,\n",
              "       0., 0., 1., 0., 0., 0., 0., 1., 1., 1., 0., 0., 0., 0., 0., 1., 0.,\n",
              "       0., 0., 0., 0., 0., 0., 0., 0., 0., 0., 0., 0., 1., 0., 1., 1., 0.,\n",
              "       1., 1., 0., 0., 1., 0., 0., 1., 1., 1., 1., 0., 0., 0., 0., 0., 1.,\n",
              "       0., 0., 1., 1., 0., 0., 1., 1., 0., 1., 0., 1., 0., 1., 1., 0., 1.,\n",
              "       0., 0., 0., 0., 0., 1., 1., 0., 0., 0., 0., 0., 0., 0., 1., 0., 0.,\n",
              "       0., 0., 0., 0., 0., 0., 1., 0., 0., 0., 0., 1., 0., 0., 0., 0., 1.,\n",
              "       0., 0., 0., 0., 0., 1., 1., 0., 0., 0., 0., 0., 1., 0., 1., 1., 0.,\n",
              "       1., 0., 1., 1., 1., 0., 0., 1., 0., 0., 0., 1., 0., 0., 1., 0., 0.,\n",
              "       0., 0., 1., 0., 0., 0., 0., 1., 1., 0., 0., 1., 0., 0., 1., 1., 0.,\n",
              "       1., 1., 0., 0., 0., 0., 0., 1., 1., 1., 0., 0., 1., 1., 2., 1., 0.,\n",
              "       0., 1., 0., 0., 0., 1., 1., 1., 1., 0., 0., 1., 0., 1., 0., 0., 0.,\n",
              "       0., 0., 0., 0., 0., 0., 0., 1., 0., 0., 1., 0., 0., 1., 1., 0., 1.,\n",
              "       0., 0., 1., 1., 0., 0., 1., 1., 0., 0., 0., 0., 1., 1., 0., 0., 0.,\n",
              "       0., 1., 1., 1., 0., 1., 1., 0., 0., 0., 1., 0., 0., 1., 0., 1., 0.,\n",
              "       0., 0., 0., 1., 1., 0., 0., 1., 0., 0., 0., 0., 0., 0., 1., 0., 0.,\n",
              "       0., 0., 0., 0., 0., 1., 1., 0., 1., 0., 0., 0., 0., 0., 1., 0., 0.,\n",
              "       0., 0., 0., 0., 0., 0., 1., 0., 1., 1., 0., 1., 0., 0., 1., 0., 0.,\n",
              "       1., 0., 0., 0., 0., 1., 1., 0., 1., 0., 0., 1., 0., 1., 0., 0., 0.,\n",
              "       0., 1., 1., 0., 1., 1., 0., 1., 0., 0., 1., 0., 0., 1., 0., 0., 0.,\n",
              "       0., 0., 1., 0., 0., 2., 0., 0., 1., 0., 1., 0., 1., 1., 1., 0., 1.,\n",
              "       1., 1., 1., 1., 1., 0., 0., 0., 0., 1., 1., 1., 1., 0., 1., 0., 0.,\n",
              "       0., 0., 0., 1., 0., 0., 0., 1., 0., 1., 0., 0., 1., 0.],\n",
              "      dtype=float32), metrics={'test_loss': 0.14295531809329987, 'test_accuracy': 0.668, 'test_runtime': 139.8216, 'test_samples_per_second': 7.152, 'test_steps_per_second': 0.894})"
            ]
          },
          "metadata": {},
          "execution_count": 49
        }
      ]
    },
    {
      "cell_type": "markdown",
      "metadata": {
        "id": "xcHTqyDr_tP8"
      },
      "source": [
        "<a id='pytorch_native'></a>"
      ]
    },
    {
      "cell_type": "markdown",
      "metadata": {
        "id": "yB661vMW_tP8"
      },
      "source": [
        "## Train in native PyTorch"
      ]
    },
    {
      "cell_type": "code",
      "execution_count": null,
      "metadata": {
        "cellView": "form",
        "hide_input": true,
        "id": "RCyA-eFR_tP9",
        "outputId": "1e1db016-2d9b-4624-fcb3-0df41bbe622e"
      },
      "outputs": [
        {
          "data": {
            "text/html": [
              "<iframe width=\"560\" height=\"315\" src=\"https://www.youtube.com/embed/Dh9CL8fyG80?rel=0&amp;controls=0&amp;showinfo=0\" frameborder=\"0\" allowfullscreen></iframe>"
            ],
            "text/plain": [
              "<IPython.core.display.HTML object>"
            ]
          },
          "execution_count": null,
          "metadata": {},
          "output_type": "execute_result"
        }
      ],
      "source": [
        "#@title\n",
        "from IPython.display import HTML\n",
        "\n",
        "HTML('<iframe width=\"560\" height=\"315\" src=\"https://www.youtube.com/embed/Dh9CL8fyG80?rel=0&amp;controls=0&amp;showinfo=0\" frameborder=\"0\" allowfullscreen></iframe>')"
      ]
    },
    {
      "cell_type": "markdown",
      "metadata": {
        "id": "ia9OKubL_tP9"
      },
      "source": [
        "[Trainer](https://huggingface.co/docs/transformers/main/en/main_classes/trainer#transformers.Trainer) takes care of the training loop and allows you to fine-tune a model in a single line of code. For users who prefer to write their own training loop, you can also fine-tune a 🤗 Transformers model in native PyTorch.\n",
        "\n",
        "At this point, you may need to restart your notebook or execute the following code to free some memory:"
      ]
    },
    {
      "cell_type": "code",
      "execution_count": null,
      "metadata": {
        "id": "KxMeZN6m_tP9"
      },
      "outputs": [],
      "source": [
        "del model\n",
        "del trainer\n",
        "torch.cuda.empty_cache()"
      ]
    },
    {
      "cell_type": "markdown",
      "metadata": {
        "id": "5czH_et8_tQB"
      },
      "source": [
        "Next, manually postprocess `tokenized_dataset` to prepare it for training.\n",
        "\n",
        "1. Remove the `text` column because the model does not accept raw text as an input:\n",
        "\n",
        "    ```py\n",
        "    >>> tokenized_datasets = tokenized_datasets.remove_columns([\"text\"])\n",
        "    ```\n",
        "\n",
        "2. Rename the `label` column to `labels` because the model expects the argument to be named `labels`:\n",
        "\n",
        "    ```py\n",
        "    >>> tokenized_datasets = tokenized_datasets.rename_column(\"label\", \"labels\")\n",
        "    ```\n",
        "\n",
        "3. Set the format of the dataset to return PyTorch tensors instead of lists:\n",
        "\n",
        "    ```py\n",
        "    >>> tokenized_datasets.set_format(\"torch\")\n",
        "    ```\n",
        "\n",
        "Then create a smaller subset of the dataset as previously shown to speed up the fine-tuning:"
      ]
    },
    {
      "cell_type": "code",
      "execution_count": null,
      "metadata": {
        "id": "9nHTUrsf_tQB"
      },
      "outputs": [],
      "source": [
        "small_train_dataset = tokenized_datasets[\"train\"].shuffle(seed=42).select(range(1000))\n",
        "small_eval_dataset = tokenized_datasets[\"test\"].shuffle(seed=42).select(range(1000))"
      ]
    },
    {
      "cell_type": "markdown",
      "metadata": {
        "id": "PPFAKIK6_tQB"
      },
      "source": [
        "### DataLoader"
      ]
    },
    {
      "cell_type": "markdown",
      "metadata": {
        "id": "m0z3SIgg_tQB"
      },
      "source": [
        "Create a `DataLoader` for your training and test datasets so you can iterate over batches of data:"
      ]
    },
    {
      "cell_type": "code",
      "execution_count": null,
      "metadata": {
        "id": "pib30ejK_tQB"
      },
      "outputs": [],
      "source": [
        "from torch.utils.data import DataLoader\n",
        "\n",
        "train_dataloader = DataLoader(small_train_dataset, shuffle=True, batch_size=8)\n",
        "eval_dataloader = DataLoader(small_eval_dataset, batch_size=8)"
      ]
    },
    {
      "cell_type": "markdown",
      "metadata": {
        "id": "mmsqeroj_tQB"
      },
      "source": [
        "Load your model with the number of expected labels:"
      ]
    },
    {
      "cell_type": "code",
      "execution_count": null,
      "metadata": {
        "id": "5pKcOyfy_tQB"
      },
      "outputs": [],
      "source": [
        "from transformers import AutoModelForSequenceClassification\n",
        "\n",
        "model = AutoModelForSequenceClassification.from_pretrained(\"bert-base-cased\", num_labels=5)"
      ]
    },
    {
      "cell_type": "markdown",
      "metadata": {
        "id": "LcGiyv9O_tQC"
      },
      "source": [
        "### Optimizer and learning rate scheduler"
      ]
    },
    {
      "cell_type": "markdown",
      "metadata": {
        "id": "IYx0kx0t_tQC"
      },
      "source": [
        "Create an optimizer and learning rate scheduler to fine-tune the model. Let's use the [`AdamW`](https://pytorch.org/docs/stable/generated/torch.optim.AdamW.html) optimizer from PyTorch:"
      ]
    },
    {
      "cell_type": "code",
      "execution_count": null,
      "metadata": {
        "id": "jK96qE-h_tQC"
      },
      "outputs": [],
      "source": [
        "from torch.optim import AdamW\n",
        "\n",
        "optimizer = AdamW(model.parameters(), lr=5e-5)"
      ]
    },
    {
      "cell_type": "markdown",
      "metadata": {
        "id": "Vipz-h5__tQC"
      },
      "source": [
        "Create the default learning rate scheduler from [Trainer](https://huggingface.co/docs/transformers/main/en/main_classes/trainer#transformers.Trainer):"
      ]
    },
    {
      "cell_type": "code",
      "execution_count": null,
      "metadata": {
        "id": "lqsc12dv_tQC"
      },
      "outputs": [],
      "source": [
        "from transformers import get_scheduler\n",
        "\n",
        "num_epochs = 3\n",
        "num_training_steps = num_epochs * len(train_dataloader)\n",
        "lr_scheduler = get_scheduler(\n",
        "    name=\"linear\", optimizer=optimizer, num_warmup_steps=0, num_training_steps=num_training_steps\n",
        ")"
      ]
    },
    {
      "cell_type": "markdown",
      "metadata": {
        "id": "g-JPmEk6_tQC"
      },
      "source": [
        "Lastly, specify `device` to use a GPU if you have access to one. Otherwise, training on a CPU may take several hours instead of a couple of minutes."
      ]
    },
    {
      "cell_type": "code",
      "execution_count": null,
      "metadata": {
        "id": "NjgOhhWX_tQC"
      },
      "outputs": [],
      "source": [
        "import torch\n",
        "\n",
        "device = torch.device(\"cuda\") if torch.cuda.is_available() else torch.device(\"cpu\")\n",
        "model.to(device)"
      ]
    },
    {
      "cell_type": "markdown",
      "metadata": {
        "id": "x4ecpyIk_tQC"
      },
      "source": [
        "<Tip>\n",
        "\n",
        "Get free access to a cloud GPU if you don't have one with a hosted notebook like [Colaboratory](https://colab.research.google.com/) or [SageMaker StudioLab](https://studiolab.sagemaker.aws/).\n",
        "\n",
        "</Tip>\n",
        "\n",
        "Great, now you are ready to train! 🥳"
      ]
    },
    {
      "cell_type": "markdown",
      "metadata": {
        "id": "S_zvDz7__tQD"
      },
      "source": [
        "### Training loop"
      ]
    },
    {
      "cell_type": "markdown",
      "metadata": {
        "id": "9jh7XGdF_tQD"
      },
      "source": [
        "To keep track of your training progress, use the [tqdm](https://tqdm.github.io/) library to add a progress bar over the number of training steps:"
      ]
    },
    {
      "cell_type": "code",
      "execution_count": null,
      "metadata": {
        "id": "pqFCn6Qt_tQD"
      },
      "outputs": [],
      "source": [
        "from tqdm.auto import tqdm\n",
        "\n",
        "progress_bar = tqdm(range(num_training_steps))\n",
        "\n",
        "model.train()\n",
        "for epoch in range(num_epochs):\n",
        "    for batch in train_dataloader:\n",
        "        batch = {k: v.to(device) for k, v in batch.items()}\n",
        "        outputs = model(**batch)\n",
        "        loss = outputs.loss\n",
        "        loss.backward()\n",
        "\n",
        "        optimizer.step()\n",
        "        lr_scheduler.step()\n",
        "        optimizer.zero_grad()\n",
        "        progress_bar.update(1)"
      ]
    },
    {
      "cell_type": "markdown",
      "metadata": {
        "id": "RWWzKmnU_tQD"
      },
      "source": [
        "### Evaluate"
      ]
    },
    {
      "cell_type": "markdown",
      "metadata": {
        "id": "5JPR06JE_tQD"
      },
      "source": [
        "Just like how you added an evaluation function to [Trainer](https://huggingface.co/docs/transformers/main/en/main_classes/trainer#transformers.Trainer), you need to do the same when you write your own training loop. But instead of calculating and reporting the metric at the end of each epoch, this time you'll accumulate all the batches with `add_batch` and calculate the metric at the very end."
      ]
    },
    {
      "cell_type": "code",
      "execution_count": null,
      "metadata": {
        "id": "FJTsl4Y__tQD"
      },
      "outputs": [],
      "source": [
        "import evaluate\n",
        "\n",
        "metric = evaluate.load(\"accuracy\")\n",
        "model.eval()\n",
        "for batch in eval_dataloader:\n",
        "    batch = {k: v.to(device) for k, v in batch.items()}\n",
        "    with torch.no_grad():\n",
        "        outputs = model(**batch)\n",
        "\n",
        "    logits = outputs.logits\n",
        "    predictions = torch.argmax(logits, dim=-1)\n",
        "    metric.add_batch(predictions=predictions, references=batch[\"labels\"])\n",
        "\n",
        "metric.compute()"
      ]
    },
    {
      "cell_type": "markdown",
      "metadata": {
        "id": "2msW-lot_tQD"
      },
      "source": [
        "<a id='additional-resources'></a>"
      ]
    },
    {
      "cell_type": "markdown",
      "metadata": {
        "id": "zn-0yjFH_tQE"
      },
      "source": [
        "## Additional resources"
      ]
    },
    {
      "cell_type": "markdown",
      "metadata": {
        "id": "b-X8nUyI_tQE"
      },
      "source": [
        "For more fine-tuning examples, refer to:\n",
        "\n",
        "- [🤗 Transformers Examples](https://github.com/huggingface/transformers/tree/main/examples) includes scripts\n",
        "  to train common NLP tasks in PyTorch and TensorFlow.\n",
        "\n",
        "- [🤗 Transformers Notebooks](https://huggingface.co/docs/transformers/main/en/notebooks) contains various notebooks on how to fine-tune a model for specific tasks in PyTorch and TensorFlow."
      ]
    }
  ],
  "metadata": {
    "colab": {
      "provenance": [],
      "include_colab_link": true
    },
    "language_info": {
      "name": "python"
    },
    "kernelspec": {
      "name": "python3",
      "display_name": "Python 3"
    },
    "widgets": {
      "application/vnd.jupyter.widget-state+json": {
        "e9ed6225dc8546cab2b676183218cd77": {
          "model_module": "@jupyter-widgets/controls",
          "model_name": "HBoxModel",
          "model_module_version": "1.5.0",
          "state": {
            "_dom_classes": [],
            "_model_module": "@jupyter-widgets/controls",
            "_model_module_version": "1.5.0",
            "_model_name": "HBoxModel",
            "_view_count": null,
            "_view_module": "@jupyter-widgets/controls",
            "_view_module_version": "1.5.0",
            "_view_name": "HBoxView",
            "box_style": "",
            "children": [
              "IPY_MODEL_3aa882fe6d454b21b98e0ce963945e65",
              "IPY_MODEL_e8f9669a7ca3483cab0120a21df985de",
              "IPY_MODEL_24fd9f1b2b5b4073b3e7df18d556a517"
            ],
            "layout": "IPY_MODEL_0f099e8b781a4cdeb954eec9eb2b7839"
          }
        },
        "3aa882fe6d454b21b98e0ce963945e65": {
          "model_module": "@jupyter-widgets/controls",
          "model_name": "HTMLModel",
          "model_module_version": "1.5.0",
          "state": {
            "_dom_classes": [],
            "_model_module": "@jupyter-widgets/controls",
            "_model_module_version": "1.5.0",
            "_model_name": "HTMLModel",
            "_view_count": null,
            "_view_module": "@jupyter-widgets/controls",
            "_view_module_version": "1.5.0",
            "_view_name": "HTMLView",
            "description": "",
            "description_tooltip": null,
            "layout": "IPY_MODEL_efd7bbb2e8b448e084d12c705e2c6bdc",
            "placeholder": "​",
            "style": "IPY_MODEL_1ea24119cb844f58a3697f52cf36cb75",
            "value": "100%"
          }
        },
        "e8f9669a7ca3483cab0120a21df985de": {
          "model_module": "@jupyter-widgets/controls",
          "model_name": "FloatProgressModel",
          "model_module_version": "1.5.0",
          "state": {
            "_dom_classes": [],
            "_model_module": "@jupyter-widgets/controls",
            "_model_module_version": "1.5.0",
            "_model_name": "FloatProgressModel",
            "_view_count": null,
            "_view_module": "@jupyter-widgets/controls",
            "_view_module_version": "1.5.0",
            "_view_name": "ProgressView",
            "bar_style": "success",
            "description": "",
            "description_tooltip": null,
            "layout": "IPY_MODEL_73bc263c8da14a98b62857aa00e7aec3",
            "max": 2,
            "min": 0,
            "orientation": "horizontal",
            "style": "IPY_MODEL_1a015ae6a85a43d9a617f54f5c48cb76",
            "value": 2
          }
        },
        "24fd9f1b2b5b4073b3e7df18d556a517": {
          "model_module": "@jupyter-widgets/controls",
          "model_name": "HTMLModel",
          "model_module_version": "1.5.0",
          "state": {
            "_dom_classes": [],
            "_model_module": "@jupyter-widgets/controls",
            "_model_module_version": "1.5.0",
            "_model_name": "HTMLModel",
            "_view_count": null,
            "_view_module": "@jupyter-widgets/controls",
            "_view_module_version": "1.5.0",
            "_view_name": "HTMLView",
            "description": "",
            "description_tooltip": null,
            "layout": "IPY_MODEL_1e6241363173460086b7e2aee06af9e7",
            "placeholder": "​",
            "style": "IPY_MODEL_2d3ee6cf45854fc989e4f5d0667de835",
            "value": " 2/2 [00:00&lt;00:00, 49.23it/s]"
          }
        },
        "0f099e8b781a4cdeb954eec9eb2b7839": {
          "model_module": "@jupyter-widgets/base",
          "model_name": "LayoutModel",
          "model_module_version": "1.2.0",
          "state": {
            "_model_module": "@jupyter-widgets/base",
            "_model_module_version": "1.2.0",
            "_model_name": "LayoutModel",
            "_view_count": null,
            "_view_module": "@jupyter-widgets/base",
            "_view_module_version": "1.2.0",
            "_view_name": "LayoutView",
            "align_content": null,
            "align_items": null,
            "align_self": null,
            "border": null,
            "bottom": null,
            "display": null,
            "flex": null,
            "flex_flow": null,
            "grid_area": null,
            "grid_auto_columns": null,
            "grid_auto_flow": null,
            "grid_auto_rows": null,
            "grid_column": null,
            "grid_gap": null,
            "grid_row": null,
            "grid_template_areas": null,
            "grid_template_columns": null,
            "grid_template_rows": null,
            "height": null,
            "justify_content": null,
            "justify_items": null,
            "left": null,
            "margin": null,
            "max_height": null,
            "max_width": null,
            "min_height": null,
            "min_width": null,
            "object_fit": null,
            "object_position": null,
            "order": null,
            "overflow": null,
            "overflow_x": null,
            "overflow_y": null,
            "padding": null,
            "right": null,
            "top": null,
            "visibility": null,
            "width": null
          }
        },
        "efd7bbb2e8b448e084d12c705e2c6bdc": {
          "model_module": "@jupyter-widgets/base",
          "model_name": "LayoutModel",
          "model_module_version": "1.2.0",
          "state": {
            "_model_module": "@jupyter-widgets/base",
            "_model_module_version": "1.2.0",
            "_model_name": "LayoutModel",
            "_view_count": null,
            "_view_module": "@jupyter-widgets/base",
            "_view_module_version": "1.2.0",
            "_view_name": "LayoutView",
            "align_content": null,
            "align_items": null,
            "align_self": null,
            "border": null,
            "bottom": null,
            "display": null,
            "flex": null,
            "flex_flow": null,
            "grid_area": null,
            "grid_auto_columns": null,
            "grid_auto_flow": null,
            "grid_auto_rows": null,
            "grid_column": null,
            "grid_gap": null,
            "grid_row": null,
            "grid_template_areas": null,
            "grid_template_columns": null,
            "grid_template_rows": null,
            "height": null,
            "justify_content": null,
            "justify_items": null,
            "left": null,
            "margin": null,
            "max_height": null,
            "max_width": null,
            "min_height": null,
            "min_width": null,
            "object_fit": null,
            "object_position": null,
            "order": null,
            "overflow": null,
            "overflow_x": null,
            "overflow_y": null,
            "padding": null,
            "right": null,
            "top": null,
            "visibility": null,
            "width": null
          }
        },
        "1ea24119cb844f58a3697f52cf36cb75": {
          "model_module": "@jupyter-widgets/controls",
          "model_name": "DescriptionStyleModel",
          "model_module_version": "1.5.0",
          "state": {
            "_model_module": "@jupyter-widgets/controls",
            "_model_module_version": "1.5.0",
            "_model_name": "DescriptionStyleModel",
            "_view_count": null,
            "_view_module": "@jupyter-widgets/base",
            "_view_module_version": "1.2.0",
            "_view_name": "StyleView",
            "description_width": ""
          }
        },
        "73bc263c8da14a98b62857aa00e7aec3": {
          "model_module": "@jupyter-widgets/base",
          "model_name": "LayoutModel",
          "model_module_version": "1.2.0",
          "state": {
            "_model_module": "@jupyter-widgets/base",
            "_model_module_version": "1.2.0",
            "_model_name": "LayoutModel",
            "_view_count": null,
            "_view_module": "@jupyter-widgets/base",
            "_view_module_version": "1.2.0",
            "_view_name": "LayoutView",
            "align_content": null,
            "align_items": null,
            "align_self": null,
            "border": null,
            "bottom": null,
            "display": null,
            "flex": null,
            "flex_flow": null,
            "grid_area": null,
            "grid_auto_columns": null,
            "grid_auto_flow": null,
            "grid_auto_rows": null,
            "grid_column": null,
            "grid_gap": null,
            "grid_row": null,
            "grid_template_areas": null,
            "grid_template_columns": null,
            "grid_template_rows": null,
            "height": null,
            "justify_content": null,
            "justify_items": null,
            "left": null,
            "margin": null,
            "max_height": null,
            "max_width": null,
            "min_height": null,
            "min_width": null,
            "object_fit": null,
            "object_position": null,
            "order": null,
            "overflow": null,
            "overflow_x": null,
            "overflow_y": null,
            "padding": null,
            "right": null,
            "top": null,
            "visibility": null,
            "width": null
          }
        },
        "1a015ae6a85a43d9a617f54f5c48cb76": {
          "model_module": "@jupyter-widgets/controls",
          "model_name": "ProgressStyleModel",
          "model_module_version": "1.5.0",
          "state": {
            "_model_module": "@jupyter-widgets/controls",
            "_model_module_version": "1.5.0",
            "_model_name": "ProgressStyleModel",
            "_view_count": null,
            "_view_module": "@jupyter-widgets/base",
            "_view_module_version": "1.2.0",
            "_view_name": "StyleView",
            "bar_color": null,
            "description_width": ""
          }
        },
        "1e6241363173460086b7e2aee06af9e7": {
          "model_module": "@jupyter-widgets/base",
          "model_name": "LayoutModel",
          "model_module_version": "1.2.0",
          "state": {
            "_model_module": "@jupyter-widgets/base",
            "_model_module_version": "1.2.0",
            "_model_name": "LayoutModel",
            "_view_count": null,
            "_view_module": "@jupyter-widgets/base",
            "_view_module_version": "1.2.0",
            "_view_name": "LayoutView",
            "align_content": null,
            "align_items": null,
            "align_self": null,
            "border": null,
            "bottom": null,
            "display": null,
            "flex": null,
            "flex_flow": null,
            "grid_area": null,
            "grid_auto_columns": null,
            "grid_auto_flow": null,
            "grid_auto_rows": null,
            "grid_column": null,
            "grid_gap": null,
            "grid_row": null,
            "grid_template_areas": null,
            "grid_template_columns": null,
            "grid_template_rows": null,
            "height": null,
            "justify_content": null,
            "justify_items": null,
            "left": null,
            "margin": null,
            "max_height": null,
            "max_width": null,
            "min_height": null,
            "min_width": null,
            "object_fit": null,
            "object_position": null,
            "order": null,
            "overflow": null,
            "overflow_x": null,
            "overflow_y": null,
            "padding": null,
            "right": null,
            "top": null,
            "visibility": null,
            "width": null
          }
        },
        "2d3ee6cf45854fc989e4f5d0667de835": {
          "model_module": "@jupyter-widgets/controls",
          "model_name": "DescriptionStyleModel",
          "model_module_version": "1.5.0",
          "state": {
            "_model_module": "@jupyter-widgets/controls",
            "_model_module_version": "1.5.0",
            "_model_name": "DescriptionStyleModel",
            "_view_count": null,
            "_view_module": "@jupyter-widgets/base",
            "_view_module_version": "1.2.0",
            "_view_name": "StyleView",
            "description_width": ""
          }
        },
        "34be70442e2e42f994f33d5d7638f754": {
          "model_module": "@jupyter-widgets/controls",
          "model_name": "HBoxModel",
          "model_module_version": "1.5.0",
          "state": {
            "_dom_classes": [],
            "_model_module": "@jupyter-widgets/controls",
            "_model_module_version": "1.5.0",
            "_model_name": "HBoxModel",
            "_view_count": null,
            "_view_module": "@jupyter-widgets/controls",
            "_view_module_version": "1.5.0",
            "_view_name": "HBoxView",
            "box_style": "",
            "children": [
              "IPY_MODEL_1422c473c2ad4135a63e155b5d4e2497",
              "IPY_MODEL_5ae9458b149c4178b6449a6d492977e9",
              "IPY_MODEL_9b5e3de29e794e16bc745cad03055453"
            ],
            "layout": "IPY_MODEL_3c53a6019d22469d94924a07f632fafa"
          }
        },
        "1422c473c2ad4135a63e155b5d4e2497": {
          "model_module": "@jupyter-widgets/controls",
          "model_name": "HTMLModel",
          "model_module_version": "1.5.0",
          "state": {
            "_dom_classes": [],
            "_model_module": "@jupyter-widgets/controls",
            "_model_module_version": "1.5.0",
            "_model_name": "HTMLModel",
            "_view_count": null,
            "_view_module": "@jupyter-widgets/controls",
            "_view_module_version": "1.5.0",
            "_view_name": "HTMLView",
            "description": "",
            "description_tooltip": null,
            "layout": "IPY_MODEL_493745a265424f2d83f8ebc8777c79c5",
            "placeholder": "​",
            "style": "IPY_MODEL_37c420ded5ca4302a9dcedee00c55de8",
            "value": "Casting the dataset:   0%"
          }
        },
        "5ae9458b149c4178b6449a6d492977e9": {
          "model_module": "@jupyter-widgets/controls",
          "model_name": "FloatProgressModel",
          "model_module_version": "1.5.0",
          "state": {
            "_dom_classes": [],
            "_model_module": "@jupyter-widgets/controls",
            "_model_module_version": "1.5.0",
            "_model_name": "FloatProgressModel",
            "_view_count": null,
            "_view_module": "@jupyter-widgets/controls",
            "_view_module_version": "1.5.0",
            "_view_name": "ProgressView",
            "bar_style": "",
            "description": "",
            "description_tooltip": null,
            "layout": "IPY_MODEL_9394913df79e4c12bcd13884a238324b",
            "max": 10244,
            "min": 0,
            "orientation": "horizontal",
            "style": "IPY_MODEL_e35a4839877045719d3c8ee06adae1d2",
            "value": 10244
          }
        },
        "9b5e3de29e794e16bc745cad03055453": {
          "model_module": "@jupyter-widgets/controls",
          "model_name": "HTMLModel",
          "model_module_version": "1.5.0",
          "state": {
            "_dom_classes": [],
            "_model_module": "@jupyter-widgets/controls",
            "_model_module_version": "1.5.0",
            "_model_name": "HTMLModel",
            "_view_count": null,
            "_view_module": "@jupyter-widgets/controls",
            "_view_module_version": "1.5.0",
            "_view_name": "HTMLView",
            "description": "",
            "description_tooltip": null,
            "layout": "IPY_MODEL_f619a78fc4e44e96a70cad56ae05db37",
            "placeholder": "​",
            "style": "IPY_MODEL_ac467f8b3e31427daef4a2289298642e",
            "value": " 0/10244 [00:00&lt;?, ? examples/s]"
          }
        },
        "3c53a6019d22469d94924a07f632fafa": {
          "model_module": "@jupyter-widgets/base",
          "model_name": "LayoutModel",
          "model_module_version": "1.2.0",
          "state": {
            "_model_module": "@jupyter-widgets/base",
            "_model_module_version": "1.2.0",
            "_model_name": "LayoutModel",
            "_view_count": null,
            "_view_module": "@jupyter-widgets/base",
            "_view_module_version": "1.2.0",
            "_view_name": "LayoutView",
            "align_content": null,
            "align_items": null,
            "align_self": null,
            "border": null,
            "bottom": null,
            "display": null,
            "flex": null,
            "flex_flow": null,
            "grid_area": null,
            "grid_auto_columns": null,
            "grid_auto_flow": null,
            "grid_auto_rows": null,
            "grid_column": null,
            "grid_gap": null,
            "grid_row": null,
            "grid_template_areas": null,
            "grid_template_columns": null,
            "grid_template_rows": null,
            "height": null,
            "justify_content": null,
            "justify_items": null,
            "left": null,
            "margin": null,
            "max_height": null,
            "max_width": null,
            "min_height": null,
            "min_width": null,
            "object_fit": null,
            "object_position": null,
            "order": null,
            "overflow": null,
            "overflow_x": null,
            "overflow_y": null,
            "padding": null,
            "right": null,
            "top": null,
            "visibility": "hidden",
            "width": null
          }
        },
        "493745a265424f2d83f8ebc8777c79c5": {
          "model_module": "@jupyter-widgets/base",
          "model_name": "LayoutModel",
          "model_module_version": "1.2.0",
          "state": {
            "_model_module": "@jupyter-widgets/base",
            "_model_module_version": "1.2.0",
            "_model_name": "LayoutModel",
            "_view_count": null,
            "_view_module": "@jupyter-widgets/base",
            "_view_module_version": "1.2.0",
            "_view_name": "LayoutView",
            "align_content": null,
            "align_items": null,
            "align_self": null,
            "border": null,
            "bottom": null,
            "display": null,
            "flex": null,
            "flex_flow": null,
            "grid_area": null,
            "grid_auto_columns": null,
            "grid_auto_flow": null,
            "grid_auto_rows": null,
            "grid_column": null,
            "grid_gap": null,
            "grid_row": null,
            "grid_template_areas": null,
            "grid_template_columns": null,
            "grid_template_rows": null,
            "height": null,
            "justify_content": null,
            "justify_items": null,
            "left": null,
            "margin": null,
            "max_height": null,
            "max_width": null,
            "min_height": null,
            "min_width": null,
            "object_fit": null,
            "object_position": null,
            "order": null,
            "overflow": null,
            "overflow_x": null,
            "overflow_y": null,
            "padding": null,
            "right": null,
            "top": null,
            "visibility": null,
            "width": null
          }
        },
        "37c420ded5ca4302a9dcedee00c55de8": {
          "model_module": "@jupyter-widgets/controls",
          "model_name": "DescriptionStyleModel",
          "model_module_version": "1.5.0",
          "state": {
            "_model_module": "@jupyter-widgets/controls",
            "_model_module_version": "1.5.0",
            "_model_name": "DescriptionStyleModel",
            "_view_count": null,
            "_view_module": "@jupyter-widgets/base",
            "_view_module_version": "1.2.0",
            "_view_name": "StyleView",
            "description_width": ""
          }
        },
        "9394913df79e4c12bcd13884a238324b": {
          "model_module": "@jupyter-widgets/base",
          "model_name": "LayoutModel",
          "model_module_version": "1.2.0",
          "state": {
            "_model_module": "@jupyter-widgets/base",
            "_model_module_version": "1.2.0",
            "_model_name": "LayoutModel",
            "_view_count": null,
            "_view_module": "@jupyter-widgets/base",
            "_view_module_version": "1.2.0",
            "_view_name": "LayoutView",
            "align_content": null,
            "align_items": null,
            "align_self": null,
            "border": null,
            "bottom": null,
            "display": null,
            "flex": null,
            "flex_flow": null,
            "grid_area": null,
            "grid_auto_columns": null,
            "grid_auto_flow": null,
            "grid_auto_rows": null,
            "grid_column": null,
            "grid_gap": null,
            "grid_row": null,
            "grid_template_areas": null,
            "grid_template_columns": null,
            "grid_template_rows": null,
            "height": null,
            "justify_content": null,
            "justify_items": null,
            "left": null,
            "margin": null,
            "max_height": null,
            "max_width": null,
            "min_height": null,
            "min_width": null,
            "object_fit": null,
            "object_position": null,
            "order": null,
            "overflow": null,
            "overflow_x": null,
            "overflow_y": null,
            "padding": null,
            "right": null,
            "top": null,
            "visibility": null,
            "width": null
          }
        },
        "e35a4839877045719d3c8ee06adae1d2": {
          "model_module": "@jupyter-widgets/controls",
          "model_name": "ProgressStyleModel",
          "model_module_version": "1.5.0",
          "state": {
            "_model_module": "@jupyter-widgets/controls",
            "_model_module_version": "1.5.0",
            "_model_name": "ProgressStyleModel",
            "_view_count": null,
            "_view_module": "@jupyter-widgets/base",
            "_view_module_version": "1.2.0",
            "_view_name": "StyleView",
            "bar_color": null,
            "description_width": ""
          }
        },
        "f619a78fc4e44e96a70cad56ae05db37": {
          "model_module": "@jupyter-widgets/base",
          "model_name": "LayoutModel",
          "model_module_version": "1.2.0",
          "state": {
            "_model_module": "@jupyter-widgets/base",
            "_model_module_version": "1.2.0",
            "_model_name": "LayoutModel",
            "_view_count": null,
            "_view_module": "@jupyter-widgets/base",
            "_view_module_version": "1.2.0",
            "_view_name": "LayoutView",
            "align_content": null,
            "align_items": null,
            "align_self": null,
            "border": null,
            "bottom": null,
            "display": null,
            "flex": null,
            "flex_flow": null,
            "grid_area": null,
            "grid_auto_columns": null,
            "grid_auto_flow": null,
            "grid_auto_rows": null,
            "grid_column": null,
            "grid_gap": null,
            "grid_row": null,
            "grid_template_areas": null,
            "grid_template_columns": null,
            "grid_template_rows": null,
            "height": null,
            "justify_content": null,
            "justify_items": null,
            "left": null,
            "margin": null,
            "max_height": null,
            "max_width": null,
            "min_height": null,
            "min_width": null,
            "object_fit": null,
            "object_position": null,
            "order": null,
            "overflow": null,
            "overflow_x": null,
            "overflow_y": null,
            "padding": null,
            "right": null,
            "top": null,
            "visibility": null,
            "width": null
          }
        },
        "ac467f8b3e31427daef4a2289298642e": {
          "model_module": "@jupyter-widgets/controls",
          "model_name": "DescriptionStyleModel",
          "model_module_version": "1.5.0",
          "state": {
            "_model_module": "@jupyter-widgets/controls",
            "_model_module_version": "1.5.0",
            "_model_name": "DescriptionStyleModel",
            "_view_count": null,
            "_view_module": "@jupyter-widgets/base",
            "_view_module_version": "1.2.0",
            "_view_name": "StyleView",
            "description_width": ""
          }
        },
        "a13ca336fe0747a088f6a3134ca89cc8": {
          "model_module": "@jupyter-widgets/controls",
          "model_name": "HBoxModel",
          "model_module_version": "1.5.0",
          "state": {
            "_dom_classes": [],
            "_model_module": "@jupyter-widgets/controls",
            "_model_module_version": "1.5.0",
            "_model_name": "HBoxModel",
            "_view_count": null,
            "_view_module": "@jupyter-widgets/controls",
            "_view_module_version": "1.5.0",
            "_view_name": "HBoxView",
            "box_style": "",
            "children": [
              "IPY_MODEL_71fd3065d2e04e6b8553dfe107f53d57",
              "IPY_MODEL_8a2ef71c1d0d4fe187f381e41a269701",
              "IPY_MODEL_685eed1279e04a59864c81cea82e53ad"
            ],
            "layout": "IPY_MODEL_63cb0729fd3f476783f458295c59b214"
          }
        },
        "71fd3065d2e04e6b8553dfe107f53d57": {
          "model_module": "@jupyter-widgets/controls",
          "model_name": "HTMLModel",
          "model_module_version": "1.5.0",
          "state": {
            "_dom_classes": [],
            "_model_module": "@jupyter-widgets/controls",
            "_model_module_version": "1.5.0",
            "_model_name": "HTMLModel",
            "_view_count": null,
            "_view_module": "@jupyter-widgets/controls",
            "_view_module_version": "1.5.0",
            "_view_name": "HTMLView",
            "description": "",
            "description_tooltip": null,
            "layout": "IPY_MODEL_2e2ecf8e3a9e47e6b6f7dd0203be186a",
            "placeholder": "​",
            "style": "IPY_MODEL_fb737728f56a49908d0cab58dc6f09bd",
            "value": "Casting the dataset:   0%"
          }
        },
        "8a2ef71c1d0d4fe187f381e41a269701": {
          "model_module": "@jupyter-widgets/controls",
          "model_name": "FloatProgressModel",
          "model_module_version": "1.5.0",
          "state": {
            "_dom_classes": [],
            "_model_module": "@jupyter-widgets/controls",
            "_model_module_version": "1.5.0",
            "_model_name": "FloatProgressModel",
            "_view_count": null,
            "_view_module": "@jupyter-widgets/controls",
            "_view_module_version": "1.5.0",
            "_view_name": "ProgressView",
            "bar_style": "",
            "description": "",
            "description_tooltip": null,
            "layout": "IPY_MODEL_47ae13faad3e43dbab0e6e30da3d38a4",
            "max": 2560,
            "min": 0,
            "orientation": "horizontal",
            "style": "IPY_MODEL_43b88ec60e5244b4b0c6e1d6ea771c94",
            "value": 2560
          }
        },
        "685eed1279e04a59864c81cea82e53ad": {
          "model_module": "@jupyter-widgets/controls",
          "model_name": "HTMLModel",
          "model_module_version": "1.5.0",
          "state": {
            "_dom_classes": [],
            "_model_module": "@jupyter-widgets/controls",
            "_model_module_version": "1.5.0",
            "_model_name": "HTMLModel",
            "_view_count": null,
            "_view_module": "@jupyter-widgets/controls",
            "_view_module_version": "1.5.0",
            "_view_name": "HTMLView",
            "description": "",
            "description_tooltip": null,
            "layout": "IPY_MODEL_5cd1333af8af4df7a567239d71d3c9b3",
            "placeholder": "​",
            "style": "IPY_MODEL_5627b71ea11943959d2ffd5540fc2b7d",
            "value": " 0/2560 [00:00&lt;?, ? examples/s]"
          }
        },
        "63cb0729fd3f476783f458295c59b214": {
          "model_module": "@jupyter-widgets/base",
          "model_name": "LayoutModel",
          "model_module_version": "1.2.0",
          "state": {
            "_model_module": "@jupyter-widgets/base",
            "_model_module_version": "1.2.0",
            "_model_name": "LayoutModel",
            "_view_count": null,
            "_view_module": "@jupyter-widgets/base",
            "_view_module_version": "1.2.0",
            "_view_name": "LayoutView",
            "align_content": null,
            "align_items": null,
            "align_self": null,
            "border": null,
            "bottom": null,
            "display": null,
            "flex": null,
            "flex_flow": null,
            "grid_area": null,
            "grid_auto_columns": null,
            "grid_auto_flow": null,
            "grid_auto_rows": null,
            "grid_column": null,
            "grid_gap": null,
            "grid_row": null,
            "grid_template_areas": null,
            "grid_template_columns": null,
            "grid_template_rows": null,
            "height": null,
            "justify_content": null,
            "justify_items": null,
            "left": null,
            "margin": null,
            "max_height": null,
            "max_width": null,
            "min_height": null,
            "min_width": null,
            "object_fit": null,
            "object_position": null,
            "order": null,
            "overflow": null,
            "overflow_x": null,
            "overflow_y": null,
            "padding": null,
            "right": null,
            "top": null,
            "visibility": "hidden",
            "width": null
          }
        },
        "2e2ecf8e3a9e47e6b6f7dd0203be186a": {
          "model_module": "@jupyter-widgets/base",
          "model_name": "LayoutModel",
          "model_module_version": "1.2.0",
          "state": {
            "_model_module": "@jupyter-widgets/base",
            "_model_module_version": "1.2.0",
            "_model_name": "LayoutModel",
            "_view_count": null,
            "_view_module": "@jupyter-widgets/base",
            "_view_module_version": "1.2.0",
            "_view_name": "LayoutView",
            "align_content": null,
            "align_items": null,
            "align_self": null,
            "border": null,
            "bottom": null,
            "display": null,
            "flex": null,
            "flex_flow": null,
            "grid_area": null,
            "grid_auto_columns": null,
            "grid_auto_flow": null,
            "grid_auto_rows": null,
            "grid_column": null,
            "grid_gap": null,
            "grid_row": null,
            "grid_template_areas": null,
            "grid_template_columns": null,
            "grid_template_rows": null,
            "height": null,
            "justify_content": null,
            "justify_items": null,
            "left": null,
            "margin": null,
            "max_height": null,
            "max_width": null,
            "min_height": null,
            "min_width": null,
            "object_fit": null,
            "object_position": null,
            "order": null,
            "overflow": null,
            "overflow_x": null,
            "overflow_y": null,
            "padding": null,
            "right": null,
            "top": null,
            "visibility": null,
            "width": null
          }
        },
        "fb737728f56a49908d0cab58dc6f09bd": {
          "model_module": "@jupyter-widgets/controls",
          "model_name": "DescriptionStyleModel",
          "model_module_version": "1.5.0",
          "state": {
            "_model_module": "@jupyter-widgets/controls",
            "_model_module_version": "1.5.0",
            "_model_name": "DescriptionStyleModel",
            "_view_count": null,
            "_view_module": "@jupyter-widgets/base",
            "_view_module_version": "1.2.0",
            "_view_name": "StyleView",
            "description_width": ""
          }
        },
        "47ae13faad3e43dbab0e6e30da3d38a4": {
          "model_module": "@jupyter-widgets/base",
          "model_name": "LayoutModel",
          "model_module_version": "1.2.0",
          "state": {
            "_model_module": "@jupyter-widgets/base",
            "_model_module_version": "1.2.0",
            "_model_name": "LayoutModel",
            "_view_count": null,
            "_view_module": "@jupyter-widgets/base",
            "_view_module_version": "1.2.0",
            "_view_name": "LayoutView",
            "align_content": null,
            "align_items": null,
            "align_self": null,
            "border": null,
            "bottom": null,
            "display": null,
            "flex": null,
            "flex_flow": null,
            "grid_area": null,
            "grid_auto_columns": null,
            "grid_auto_flow": null,
            "grid_auto_rows": null,
            "grid_column": null,
            "grid_gap": null,
            "grid_row": null,
            "grid_template_areas": null,
            "grid_template_columns": null,
            "grid_template_rows": null,
            "height": null,
            "justify_content": null,
            "justify_items": null,
            "left": null,
            "margin": null,
            "max_height": null,
            "max_width": null,
            "min_height": null,
            "min_width": null,
            "object_fit": null,
            "object_position": null,
            "order": null,
            "overflow": null,
            "overflow_x": null,
            "overflow_y": null,
            "padding": null,
            "right": null,
            "top": null,
            "visibility": null,
            "width": null
          }
        },
        "43b88ec60e5244b4b0c6e1d6ea771c94": {
          "model_module": "@jupyter-widgets/controls",
          "model_name": "ProgressStyleModel",
          "model_module_version": "1.5.0",
          "state": {
            "_model_module": "@jupyter-widgets/controls",
            "_model_module_version": "1.5.0",
            "_model_name": "ProgressStyleModel",
            "_view_count": null,
            "_view_module": "@jupyter-widgets/base",
            "_view_module_version": "1.2.0",
            "_view_name": "StyleView",
            "bar_color": null,
            "description_width": ""
          }
        },
        "5cd1333af8af4df7a567239d71d3c9b3": {
          "model_module": "@jupyter-widgets/base",
          "model_name": "LayoutModel",
          "model_module_version": "1.2.0",
          "state": {
            "_model_module": "@jupyter-widgets/base",
            "_model_module_version": "1.2.0",
            "_model_name": "LayoutModel",
            "_view_count": null,
            "_view_module": "@jupyter-widgets/base",
            "_view_module_version": "1.2.0",
            "_view_name": "LayoutView",
            "align_content": null,
            "align_items": null,
            "align_self": null,
            "border": null,
            "bottom": null,
            "display": null,
            "flex": null,
            "flex_flow": null,
            "grid_area": null,
            "grid_auto_columns": null,
            "grid_auto_flow": null,
            "grid_auto_rows": null,
            "grid_column": null,
            "grid_gap": null,
            "grid_row": null,
            "grid_template_areas": null,
            "grid_template_columns": null,
            "grid_template_rows": null,
            "height": null,
            "justify_content": null,
            "justify_items": null,
            "left": null,
            "margin": null,
            "max_height": null,
            "max_width": null,
            "min_height": null,
            "min_width": null,
            "object_fit": null,
            "object_position": null,
            "order": null,
            "overflow": null,
            "overflow_x": null,
            "overflow_y": null,
            "padding": null,
            "right": null,
            "top": null,
            "visibility": null,
            "width": null
          }
        },
        "5627b71ea11943959d2ffd5540fc2b7d": {
          "model_module": "@jupyter-widgets/controls",
          "model_name": "DescriptionStyleModel",
          "model_module_version": "1.5.0",
          "state": {
            "_model_module": "@jupyter-widgets/controls",
            "_model_module_version": "1.5.0",
            "_model_name": "DescriptionStyleModel",
            "_view_count": null,
            "_view_module": "@jupyter-widgets/base",
            "_view_module_version": "1.2.0",
            "_view_name": "StyleView",
            "description_width": ""
          }
        },
        "b33962ac17cb4ce19eee6934ece70455": {
          "model_module": "@jupyter-widgets/controls",
          "model_name": "HBoxModel",
          "model_module_version": "1.5.0",
          "state": {
            "_dom_classes": [],
            "_model_module": "@jupyter-widgets/controls",
            "_model_module_version": "1.5.0",
            "_model_name": "HBoxModel",
            "_view_count": null,
            "_view_module": "@jupyter-widgets/controls",
            "_view_module_version": "1.5.0",
            "_view_name": "HBoxView",
            "box_style": "",
            "children": [
              "IPY_MODEL_90581f31e2a84350878b57f96100977c",
              "IPY_MODEL_36583eb1965c41a29893b37e3044596a",
              "IPY_MODEL_34bb2e9986764ca6b847c9ac35fd2430"
            ],
            "layout": "IPY_MODEL_0e487a39f5d646f0a1ff878fe56fc49b"
          }
        },
        "90581f31e2a84350878b57f96100977c": {
          "model_module": "@jupyter-widgets/controls",
          "model_name": "HTMLModel",
          "model_module_version": "1.5.0",
          "state": {
            "_dom_classes": [],
            "_model_module": "@jupyter-widgets/controls",
            "_model_module_version": "1.5.0",
            "_model_name": "HTMLModel",
            "_view_count": null,
            "_view_module": "@jupyter-widgets/controls",
            "_view_module_version": "1.5.0",
            "_view_name": "HTMLView",
            "description": "",
            "description_tooltip": null,
            "layout": "IPY_MODEL_e96410524e4a42779d1fd1016d2d3fe6",
            "placeholder": "​",
            "style": "IPY_MODEL_89c2869a455d4e28bc9d1d6d4f672db6",
            "value": "Map:  98%"
          }
        },
        "36583eb1965c41a29893b37e3044596a": {
          "model_module": "@jupyter-widgets/controls",
          "model_name": "FloatProgressModel",
          "model_module_version": "1.5.0",
          "state": {
            "_dom_classes": [],
            "_model_module": "@jupyter-widgets/controls",
            "_model_module_version": "1.5.0",
            "_model_name": "FloatProgressModel",
            "_view_count": null,
            "_view_module": "@jupyter-widgets/controls",
            "_view_module_version": "1.5.0",
            "_view_name": "ProgressView",
            "bar_style": "",
            "description": "",
            "description_tooltip": null,
            "layout": "IPY_MODEL_dfd107c2165d49a0b6f79494a814f90a",
            "max": 10244,
            "min": 0,
            "orientation": "horizontal",
            "style": "IPY_MODEL_190946852be44b11841e807433fbb0a5",
            "value": 10244
          }
        },
        "34bb2e9986764ca6b847c9ac35fd2430": {
          "model_module": "@jupyter-widgets/controls",
          "model_name": "HTMLModel",
          "model_module_version": "1.5.0",
          "state": {
            "_dom_classes": [],
            "_model_module": "@jupyter-widgets/controls",
            "_model_module_version": "1.5.0",
            "_model_name": "HTMLModel",
            "_view_count": null,
            "_view_module": "@jupyter-widgets/controls",
            "_view_module_version": "1.5.0",
            "_view_name": "HTMLView",
            "description": "",
            "description_tooltip": null,
            "layout": "IPY_MODEL_35d2b5413d1e46259ab5943c153ca3bc",
            "placeholder": "​",
            "style": "IPY_MODEL_575ff31c95a842839b8fb83a84edff0b",
            "value": " 10000/10244 [00:02&lt;00:00, 4973.42 examples/s]"
          }
        },
        "0e487a39f5d646f0a1ff878fe56fc49b": {
          "model_module": "@jupyter-widgets/base",
          "model_name": "LayoutModel",
          "model_module_version": "1.2.0",
          "state": {
            "_model_module": "@jupyter-widgets/base",
            "_model_module_version": "1.2.0",
            "_model_name": "LayoutModel",
            "_view_count": null,
            "_view_module": "@jupyter-widgets/base",
            "_view_module_version": "1.2.0",
            "_view_name": "LayoutView",
            "align_content": null,
            "align_items": null,
            "align_self": null,
            "border": null,
            "bottom": null,
            "display": null,
            "flex": null,
            "flex_flow": null,
            "grid_area": null,
            "grid_auto_columns": null,
            "grid_auto_flow": null,
            "grid_auto_rows": null,
            "grid_column": null,
            "grid_gap": null,
            "grid_row": null,
            "grid_template_areas": null,
            "grid_template_columns": null,
            "grid_template_rows": null,
            "height": null,
            "justify_content": null,
            "justify_items": null,
            "left": null,
            "margin": null,
            "max_height": null,
            "max_width": null,
            "min_height": null,
            "min_width": null,
            "object_fit": null,
            "object_position": null,
            "order": null,
            "overflow": null,
            "overflow_x": null,
            "overflow_y": null,
            "padding": null,
            "right": null,
            "top": null,
            "visibility": "hidden",
            "width": null
          }
        },
        "e96410524e4a42779d1fd1016d2d3fe6": {
          "model_module": "@jupyter-widgets/base",
          "model_name": "LayoutModel",
          "model_module_version": "1.2.0",
          "state": {
            "_model_module": "@jupyter-widgets/base",
            "_model_module_version": "1.2.0",
            "_model_name": "LayoutModel",
            "_view_count": null,
            "_view_module": "@jupyter-widgets/base",
            "_view_module_version": "1.2.0",
            "_view_name": "LayoutView",
            "align_content": null,
            "align_items": null,
            "align_self": null,
            "border": null,
            "bottom": null,
            "display": null,
            "flex": null,
            "flex_flow": null,
            "grid_area": null,
            "grid_auto_columns": null,
            "grid_auto_flow": null,
            "grid_auto_rows": null,
            "grid_column": null,
            "grid_gap": null,
            "grid_row": null,
            "grid_template_areas": null,
            "grid_template_columns": null,
            "grid_template_rows": null,
            "height": null,
            "justify_content": null,
            "justify_items": null,
            "left": null,
            "margin": null,
            "max_height": null,
            "max_width": null,
            "min_height": null,
            "min_width": null,
            "object_fit": null,
            "object_position": null,
            "order": null,
            "overflow": null,
            "overflow_x": null,
            "overflow_y": null,
            "padding": null,
            "right": null,
            "top": null,
            "visibility": null,
            "width": null
          }
        },
        "89c2869a455d4e28bc9d1d6d4f672db6": {
          "model_module": "@jupyter-widgets/controls",
          "model_name": "DescriptionStyleModel",
          "model_module_version": "1.5.0",
          "state": {
            "_model_module": "@jupyter-widgets/controls",
            "_model_module_version": "1.5.0",
            "_model_name": "DescriptionStyleModel",
            "_view_count": null,
            "_view_module": "@jupyter-widgets/base",
            "_view_module_version": "1.2.0",
            "_view_name": "StyleView",
            "description_width": ""
          }
        },
        "dfd107c2165d49a0b6f79494a814f90a": {
          "model_module": "@jupyter-widgets/base",
          "model_name": "LayoutModel",
          "model_module_version": "1.2.0",
          "state": {
            "_model_module": "@jupyter-widgets/base",
            "_model_module_version": "1.2.0",
            "_model_name": "LayoutModel",
            "_view_count": null,
            "_view_module": "@jupyter-widgets/base",
            "_view_module_version": "1.2.0",
            "_view_name": "LayoutView",
            "align_content": null,
            "align_items": null,
            "align_self": null,
            "border": null,
            "bottom": null,
            "display": null,
            "flex": null,
            "flex_flow": null,
            "grid_area": null,
            "grid_auto_columns": null,
            "grid_auto_flow": null,
            "grid_auto_rows": null,
            "grid_column": null,
            "grid_gap": null,
            "grid_row": null,
            "grid_template_areas": null,
            "grid_template_columns": null,
            "grid_template_rows": null,
            "height": null,
            "justify_content": null,
            "justify_items": null,
            "left": null,
            "margin": null,
            "max_height": null,
            "max_width": null,
            "min_height": null,
            "min_width": null,
            "object_fit": null,
            "object_position": null,
            "order": null,
            "overflow": null,
            "overflow_x": null,
            "overflow_y": null,
            "padding": null,
            "right": null,
            "top": null,
            "visibility": null,
            "width": null
          }
        },
        "190946852be44b11841e807433fbb0a5": {
          "model_module": "@jupyter-widgets/controls",
          "model_name": "ProgressStyleModel",
          "model_module_version": "1.5.0",
          "state": {
            "_model_module": "@jupyter-widgets/controls",
            "_model_module_version": "1.5.0",
            "_model_name": "ProgressStyleModel",
            "_view_count": null,
            "_view_module": "@jupyter-widgets/base",
            "_view_module_version": "1.2.0",
            "_view_name": "StyleView",
            "bar_color": null,
            "description_width": ""
          }
        },
        "35d2b5413d1e46259ab5943c153ca3bc": {
          "model_module": "@jupyter-widgets/base",
          "model_name": "LayoutModel",
          "model_module_version": "1.2.0",
          "state": {
            "_model_module": "@jupyter-widgets/base",
            "_model_module_version": "1.2.0",
            "_model_name": "LayoutModel",
            "_view_count": null,
            "_view_module": "@jupyter-widgets/base",
            "_view_module_version": "1.2.0",
            "_view_name": "LayoutView",
            "align_content": null,
            "align_items": null,
            "align_self": null,
            "border": null,
            "bottom": null,
            "display": null,
            "flex": null,
            "flex_flow": null,
            "grid_area": null,
            "grid_auto_columns": null,
            "grid_auto_flow": null,
            "grid_auto_rows": null,
            "grid_column": null,
            "grid_gap": null,
            "grid_row": null,
            "grid_template_areas": null,
            "grid_template_columns": null,
            "grid_template_rows": null,
            "height": null,
            "justify_content": null,
            "justify_items": null,
            "left": null,
            "margin": null,
            "max_height": null,
            "max_width": null,
            "min_height": null,
            "min_width": null,
            "object_fit": null,
            "object_position": null,
            "order": null,
            "overflow": null,
            "overflow_x": null,
            "overflow_y": null,
            "padding": null,
            "right": null,
            "top": null,
            "visibility": null,
            "width": null
          }
        },
        "575ff31c95a842839b8fb83a84edff0b": {
          "model_module": "@jupyter-widgets/controls",
          "model_name": "DescriptionStyleModel",
          "model_module_version": "1.5.0",
          "state": {
            "_model_module": "@jupyter-widgets/controls",
            "_model_module_version": "1.5.0",
            "_model_name": "DescriptionStyleModel",
            "_view_count": null,
            "_view_module": "@jupyter-widgets/base",
            "_view_module_version": "1.2.0",
            "_view_name": "StyleView",
            "description_width": ""
          }
        },
        "15f10d8ba8a74ab5a90ec68e02b3c3ac": {
          "model_module": "@jupyter-widgets/controls",
          "model_name": "HBoxModel",
          "model_module_version": "1.5.0",
          "state": {
            "_dom_classes": [],
            "_model_module": "@jupyter-widgets/controls",
            "_model_module_version": "1.5.0",
            "_model_name": "HBoxModel",
            "_view_count": null,
            "_view_module": "@jupyter-widgets/controls",
            "_view_module_version": "1.5.0",
            "_view_name": "HBoxView",
            "box_style": "",
            "children": [
              "IPY_MODEL_8c6c7733cdd74a528d99049821084814",
              "IPY_MODEL_acd075277eb9445bb2fe1b2b99ca2308",
              "IPY_MODEL_71a84c308b094628856a183052d40e32"
            ],
            "layout": "IPY_MODEL_3d04b988bc3b4bf4bf2cce36928ddb6c"
          }
        },
        "8c6c7733cdd74a528d99049821084814": {
          "model_module": "@jupyter-widgets/controls",
          "model_name": "HTMLModel",
          "model_module_version": "1.5.0",
          "state": {
            "_dom_classes": [],
            "_model_module": "@jupyter-widgets/controls",
            "_model_module_version": "1.5.0",
            "_model_name": "HTMLModel",
            "_view_count": null,
            "_view_module": "@jupyter-widgets/controls",
            "_view_module_version": "1.5.0",
            "_view_name": "HTMLView",
            "description": "",
            "description_tooltip": null,
            "layout": "IPY_MODEL_1305053a32d84561a9acb66b228b05b1",
            "placeholder": "​",
            "style": "IPY_MODEL_edbbb15500a845a1bc08165b75a6480c",
            "value": "Map: 100%"
          }
        },
        "acd075277eb9445bb2fe1b2b99ca2308": {
          "model_module": "@jupyter-widgets/controls",
          "model_name": "FloatProgressModel",
          "model_module_version": "1.5.0",
          "state": {
            "_dom_classes": [],
            "_model_module": "@jupyter-widgets/controls",
            "_model_module_version": "1.5.0",
            "_model_name": "FloatProgressModel",
            "_view_count": null,
            "_view_module": "@jupyter-widgets/controls",
            "_view_module_version": "1.5.0",
            "_view_name": "ProgressView",
            "bar_style": "",
            "description": "",
            "description_tooltip": null,
            "layout": "IPY_MODEL_aace1857b0c4406aaeb11f58f1fcaa60",
            "max": 2560,
            "min": 0,
            "orientation": "horizontal",
            "style": "IPY_MODEL_c59234c29fa7477c94d6ee2b3297dfac",
            "value": 2560
          }
        },
        "71a84c308b094628856a183052d40e32": {
          "model_module": "@jupyter-widgets/controls",
          "model_name": "HTMLModel",
          "model_module_version": "1.5.0",
          "state": {
            "_dom_classes": [],
            "_model_module": "@jupyter-widgets/controls",
            "_model_module_version": "1.5.0",
            "_model_name": "HTMLModel",
            "_view_count": null,
            "_view_module": "@jupyter-widgets/controls",
            "_view_module_version": "1.5.0",
            "_view_name": "HTMLView",
            "description": "",
            "description_tooltip": null,
            "layout": "IPY_MODEL_a67bca27a52a407696441537f7a708e3",
            "placeholder": "​",
            "style": "IPY_MODEL_e840092011924f68a2768149ec963d5f",
            "value": " 2560/2560 [00:00&lt;00:00, 5358.15 examples/s]"
          }
        },
        "3d04b988bc3b4bf4bf2cce36928ddb6c": {
          "model_module": "@jupyter-widgets/base",
          "model_name": "LayoutModel",
          "model_module_version": "1.2.0",
          "state": {
            "_model_module": "@jupyter-widgets/base",
            "_model_module_version": "1.2.0",
            "_model_name": "LayoutModel",
            "_view_count": null,
            "_view_module": "@jupyter-widgets/base",
            "_view_module_version": "1.2.0",
            "_view_name": "LayoutView",
            "align_content": null,
            "align_items": null,
            "align_self": null,
            "border": null,
            "bottom": null,
            "display": null,
            "flex": null,
            "flex_flow": null,
            "grid_area": null,
            "grid_auto_columns": null,
            "grid_auto_flow": null,
            "grid_auto_rows": null,
            "grid_column": null,
            "grid_gap": null,
            "grid_row": null,
            "grid_template_areas": null,
            "grid_template_columns": null,
            "grid_template_rows": null,
            "height": null,
            "justify_content": null,
            "justify_items": null,
            "left": null,
            "margin": null,
            "max_height": null,
            "max_width": null,
            "min_height": null,
            "min_width": null,
            "object_fit": null,
            "object_position": null,
            "order": null,
            "overflow": null,
            "overflow_x": null,
            "overflow_y": null,
            "padding": null,
            "right": null,
            "top": null,
            "visibility": "hidden",
            "width": null
          }
        },
        "1305053a32d84561a9acb66b228b05b1": {
          "model_module": "@jupyter-widgets/base",
          "model_name": "LayoutModel",
          "model_module_version": "1.2.0",
          "state": {
            "_model_module": "@jupyter-widgets/base",
            "_model_module_version": "1.2.0",
            "_model_name": "LayoutModel",
            "_view_count": null,
            "_view_module": "@jupyter-widgets/base",
            "_view_module_version": "1.2.0",
            "_view_name": "LayoutView",
            "align_content": null,
            "align_items": null,
            "align_self": null,
            "border": null,
            "bottom": null,
            "display": null,
            "flex": null,
            "flex_flow": null,
            "grid_area": null,
            "grid_auto_columns": null,
            "grid_auto_flow": null,
            "grid_auto_rows": null,
            "grid_column": null,
            "grid_gap": null,
            "grid_row": null,
            "grid_template_areas": null,
            "grid_template_columns": null,
            "grid_template_rows": null,
            "height": null,
            "justify_content": null,
            "justify_items": null,
            "left": null,
            "margin": null,
            "max_height": null,
            "max_width": null,
            "min_height": null,
            "min_width": null,
            "object_fit": null,
            "object_position": null,
            "order": null,
            "overflow": null,
            "overflow_x": null,
            "overflow_y": null,
            "padding": null,
            "right": null,
            "top": null,
            "visibility": null,
            "width": null
          }
        },
        "edbbb15500a845a1bc08165b75a6480c": {
          "model_module": "@jupyter-widgets/controls",
          "model_name": "DescriptionStyleModel",
          "model_module_version": "1.5.0",
          "state": {
            "_model_module": "@jupyter-widgets/controls",
            "_model_module_version": "1.5.0",
            "_model_name": "DescriptionStyleModel",
            "_view_count": null,
            "_view_module": "@jupyter-widgets/base",
            "_view_module_version": "1.2.0",
            "_view_name": "StyleView",
            "description_width": ""
          }
        },
        "aace1857b0c4406aaeb11f58f1fcaa60": {
          "model_module": "@jupyter-widgets/base",
          "model_name": "LayoutModel",
          "model_module_version": "1.2.0",
          "state": {
            "_model_module": "@jupyter-widgets/base",
            "_model_module_version": "1.2.0",
            "_model_name": "LayoutModel",
            "_view_count": null,
            "_view_module": "@jupyter-widgets/base",
            "_view_module_version": "1.2.0",
            "_view_name": "LayoutView",
            "align_content": null,
            "align_items": null,
            "align_self": null,
            "border": null,
            "bottom": null,
            "display": null,
            "flex": null,
            "flex_flow": null,
            "grid_area": null,
            "grid_auto_columns": null,
            "grid_auto_flow": null,
            "grid_auto_rows": null,
            "grid_column": null,
            "grid_gap": null,
            "grid_row": null,
            "grid_template_areas": null,
            "grid_template_columns": null,
            "grid_template_rows": null,
            "height": null,
            "justify_content": null,
            "justify_items": null,
            "left": null,
            "margin": null,
            "max_height": null,
            "max_width": null,
            "min_height": null,
            "min_width": null,
            "object_fit": null,
            "object_position": null,
            "order": null,
            "overflow": null,
            "overflow_x": null,
            "overflow_y": null,
            "padding": null,
            "right": null,
            "top": null,
            "visibility": null,
            "width": null
          }
        },
        "c59234c29fa7477c94d6ee2b3297dfac": {
          "model_module": "@jupyter-widgets/controls",
          "model_name": "ProgressStyleModel",
          "model_module_version": "1.5.0",
          "state": {
            "_model_module": "@jupyter-widgets/controls",
            "_model_module_version": "1.5.0",
            "_model_name": "ProgressStyleModel",
            "_view_count": null,
            "_view_module": "@jupyter-widgets/base",
            "_view_module_version": "1.2.0",
            "_view_name": "StyleView",
            "bar_color": null,
            "description_width": ""
          }
        },
        "a67bca27a52a407696441537f7a708e3": {
          "model_module": "@jupyter-widgets/base",
          "model_name": "LayoutModel",
          "model_module_version": "1.2.0",
          "state": {
            "_model_module": "@jupyter-widgets/base",
            "_model_module_version": "1.2.0",
            "_model_name": "LayoutModel",
            "_view_count": null,
            "_view_module": "@jupyter-widgets/base",
            "_view_module_version": "1.2.0",
            "_view_name": "LayoutView",
            "align_content": null,
            "align_items": null,
            "align_self": null,
            "border": null,
            "bottom": null,
            "display": null,
            "flex": null,
            "flex_flow": null,
            "grid_area": null,
            "grid_auto_columns": null,
            "grid_auto_flow": null,
            "grid_auto_rows": null,
            "grid_column": null,
            "grid_gap": null,
            "grid_row": null,
            "grid_template_areas": null,
            "grid_template_columns": null,
            "grid_template_rows": null,
            "height": null,
            "justify_content": null,
            "justify_items": null,
            "left": null,
            "margin": null,
            "max_height": null,
            "max_width": null,
            "min_height": null,
            "min_width": null,
            "object_fit": null,
            "object_position": null,
            "order": null,
            "overflow": null,
            "overflow_x": null,
            "overflow_y": null,
            "padding": null,
            "right": null,
            "top": null,
            "visibility": null,
            "width": null
          }
        },
        "e840092011924f68a2768149ec963d5f": {
          "model_module": "@jupyter-widgets/controls",
          "model_name": "DescriptionStyleModel",
          "model_module_version": "1.5.0",
          "state": {
            "_model_module": "@jupyter-widgets/controls",
            "_model_module_version": "1.5.0",
            "_model_name": "DescriptionStyleModel",
            "_view_count": null,
            "_view_module": "@jupyter-widgets/base",
            "_view_module_version": "1.2.0",
            "_view_name": "StyleView",
            "description_width": ""
          }
        }
      }
    }
  },
  "nbformat": 4,
  "nbformat_minor": 0
}